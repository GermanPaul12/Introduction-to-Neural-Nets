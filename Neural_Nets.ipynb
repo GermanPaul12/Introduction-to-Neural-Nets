{
 "cells": [
  {
   "cell_type": "markdown",
   "metadata": {},
   "source": [
    "# Einführung in Neuronale Netze\n",
    "\n",
    "<img src=\"https://upload.wikimedia.org/wikipedia/commons/3/3d/Neural_network.svg\" alt=\"Ein Neuronales Netz (vereinfacht)\" width=\"400px\" />"
   ]
  },
  {
   "cell_type": "markdown",
   "metadata": {},
   "source": [
    "## EINLEITUNGSTEXT\n",
    "..."
   ]
  },
  {
   "cell_type": "markdown",
   "metadata": {},
   "source": [
    "## Das einzelne Neuron\n",
    "<img src=\"https://miro.medium.com/max/856/1*O7YSSqlOdQuNgMrH7J_3dg.png\" alt=\"Das einzelne Neuron\" />\n",
    "\n",
    "Ein Neuronales Netz besteht aus vielen Neuronen, die miteinander verbunden sind. Dabei sind die Neuronen denen im Gehirn nachempfunden, welche untereinander verbunden sind und die aufeinander reagieren. Bei künstlichen Neuronalen Netzen hat jedes Neuron eine oder mehrere Eingaben $x_1...x_m$ und eine Ausgabe $o_j$. Die Eingaben werden mit Gewichten $w_1...w_m$ multipliziert und anschließend addiert ($ net_j = \\displaystyle\\sum_{i=1}^{m} (x_i \\cdot w_i) $). Manchmal gibt es noch einen Bias $b_j$ ($j$ steht für ein bestimmtes Neuron. Jedes Neuron hat einen eigenen Bias). Dieser wird auf diese Summe drauf addiert ($ net_j = \\displaystyle\\sum_{i=1}^{m} (x_i \\cdot w_i) + b_j $).Das Ergebnis wird dann in eine Aktivierungsfunktion $\\varphi_j(x)$  gegeben, welche das Ergebnis in die Ausgabe des Neurons umwandelt $o_j = \\varphi_j(net_j)$ und die dann ein Eingabewert (ein anderes $x$) für die nächsten Neuronen ist (oder die Ausgabe des Neuronalen Netzes darstellt, wenn das Neuron an der hintersten Ebene ist)."
   ]
  },
  {
   "cell_type": "markdown",
   "metadata": {},
   "source": [
    "### Ein einfaches Beispiel \n",
    " \n",
    "Wir nehmen an wir haben ein Neuron mit zwei Inputs, welches die Sigmoid Funktion als Aktivierungsfunktion verwendet. Die folgenden Parameter sind gegeben:\n",
    "\n",
    "$ w = [0, 1] == w1 = 0\\ und\\ w2 = 1 \\\\\n",
    "$ b = 4\n",
    "\n",
    "Nun geben wir dem Neuron ein input x mit x = [2, 3]\n",
    "\n",
    "$$\n",
    "(w*x)+b = ((w1 * x1) + (w2 * x2)) + b \n",
    "        = 0 * 2 + 1 * 3 + 4\n",
    "        = 7\n",
    "y = f(w * x + b) = f(7) = 0.999       \n",
    "$$  \n",
    "\n",
    "Für den Input x = [2, 3] bekommen wir einen Output von 0,999. Dieser Prozess in welchem man inputs eingibt, um ein Output zu bekommen ist bekannt als **feedforward** "
   ]
  },
  {
   "cell_type": "markdown",
   "metadata": {},
   "source": [
    "### Ein Neuron programmieren\n",
    "\n",
    "Um das Neuron zu programmieren importieren wir Numpy. Numpy ist eine beliebte Python Library um mit Zahlen zu rechnen. "
   ]
  },
  {
   "cell_type": "code",
   "execution_count": 1,
   "metadata": {},
   "outputs": [
    {
     "name": "stdout",
     "output_type": "stream",
     "text": [
      "0.9990889488055994\n"
     ]
    }
   ],
   "source": [
    "#Wir importieren numpy als np um numpy nicht immer ausschreiben zu müssen\n",
    "import numpy as np\n",
    "\n",
    "\n",
    "def sigmoid(x):\n",
    "  # Unsere Aktivierungsfunktion: f(x) = 1 / (1 + e^(-x))\n",
    "  return 1 / (1 + np.exp(-x))\n",
    "\n",
    "class Neuron:\n",
    "  def __init__(self, weights, bias):\n",
    "    self.weights = weights\n",
    "    self.bias = bias\n",
    "\n",
    "  def feedforward(self, inputs):\n",
    "    # Gewichtsinputs, Addiere Gewichte und dann nutze die Aktivierungsfunktion\n",
    "    # np.dot ist eine Funktion um zwei Arrays zu multiplizieren \n",
    "    total = np.dot(self.weights, inputs) + self.bias\n",
    "    return sigmoid(total)\n",
    "\n",
    "weights = np.array([0, 1]) # w1 = 0, w2 = 1\n",
    "bias = 4                   # b = 4\n",
    "n = Neuron(weights, bias)\n",
    "\n",
    "x = np.array([2, 3])       # x1 = 2, x2 = 3\n",
    "print(n.feedforward(x))    # 0.9990889488055994"
   ]
  },
  {
   "cell_type": "markdown",
   "metadata": {},
   "source": [
    "Wie man sieht, kommen wir mit unserem selbstgecodeten Neuron auf dasselbe Ergebnis, wie zuvor nur mit Mathe."
   ]
  },
  {
   "attachments": {
    "network.svg": {
     "image/svg+xml": [
      "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"
     ]
    }
   },
   "cell_type": "markdown",
   "metadata": {},
   "source": [
    "## Ein einfaches Neuronales Netz \n",
    "\n",
    "Ein neuronales Netz ist im Endeffekt nur eine Verbidung vieler einzelner Neuronen. So kann ein einfaches Neuronales Netz aussehen:\n",
    "\n",
    "![https://victorzhou.com/77ed172fdef54ca1ffcfb0bba27ba334/network.svg](attachment:network.svg)\n",
    "\n",
    "Dieses Neuronale Netz hat zwei Inputs (x1 und x2), ein Hiddenlayer mit zwei Neuronen (h1 und h2) und ein Outputlayer mit einem Neuron (o1). \n",
    "\n",
    "Der Input für o1, sind die Outputs von h1 und h2, jeweils mit ihren Gewichten multipliziert und dann aufaddiert.\n",
    "\n",
    "Ein Hiddenlayer ist jedes Layer zwischen dem ersten Layer dem Inputlayer und dem letzten Layer dem Outputlayer. Es kann mehrere Hiddenlayer geben.\n",
    "\n",
    "### Ein Beispiel für Feedforward\n",
    "\n",
    "Wir benutzen das Netzwerk von oben und nehmen an, dass alle Neuronen die selben Gewichte haben w = [0, 1], dasselbe gilt für den Bias b=0 und die selbe Aktivierungsfunktion Sigmoid. Nun schauen wir uns die Outputs für den Input x = [2, 3] an.\n",
    "\n",
    "$$\n",
    "h1 = h2 = f(w*x+b) \\\\ \n",
    "        = f((0 * 2) + (1 * 3) + 0) \\\\ \n",
    "        = f(3) \\\\ \n",
    "        = 0.9526\n",
    "$$\n",
    "\n",
    "$$\n",
    "o1 = f(w * [h1, h2] + b) \\\\\n",
    "= f((0 * h1) + (1 * h2) + 0) \\\\\n",
    "= f(0.9526) \\\\\n",
    "= 0.7216\n",
    "$$\n",
    "\n",
    "Der Output für den Input x = [2,3] ist 0.7216"
   ]
  },
  {
   "cell_type": "markdown",
   "metadata": {},
   "source": [
    "## Ein künstliches Neuronales Netz\n",
    "<img src=\"https://1.cms.s81c.com/sites/default/files/2021-01-06/ICLH_Diagram_Batch_01_03-DeepNeuralNetwork-WHITEBG.png\" alt=\"Ein neuronales Netz\" width=\"400px\" />\n",
    "\n",
    "### Aufbau eines neuronalen Netzes\n",
    "\n",
    "Ein neuronales Netz besteht immer aus mindestens einer Schicht mit jeweils mindestens einem Neuron. Die zu verarbeitenden Daten werden in die erste Schicht Neuronen gegeben (Input-Layer), wird dann durch das Netz verarbeitet und in der letzte Schicht bildet ein oder mehr Neuronen die Ausgabe (die Anzahl von Neuronen pro Schicht - vor allem bei der Ein- und Ausgabeschicht - wird meistens vom Anwendungsfall bestimmt). Meistens sind alle Neuronen einer Schicht mit den Neuronen der nächsten Schicht verknüpft, d.h. die Ausgaben aller Neuronen einer Schicht sind Eingaben für die Neuronen der nächsten Schicht (das ist aber nicht zwingend so!). Bevor die Eingabewerte jedoch addiert werden und ihren Weg durch die Aktivierungsfunktion gehen, wird jede Ausgabe eines Neurons zu einem anderen mit einem eigenen Gewicht multipliziert. Dabei hat jede Verbindung ein eigenes Gewicht. Die Gewichte werden beim Training des neuronalen Netzes angepasst, sodass das Netz besser lernt, und eben diese Gewichte gilt es so zu wählen, dass das Neuronale Netz die besten Ausgaben gibt. Am Anfang werden diese Gewichte meist mit einem zufälligen Wert initialisiert (ist auch der Standardwert in den meisten Frameworks)."
   ]
  },
  {
   "cell_type": "markdown",
   "metadata": {},
   "source": [
    "# Hyperparameter\n",
    "\n",
    "Hyperparameter sind Parameter, die vor der Durchführung des gewählten Ansatzes an das Model übergeben werden. Diese definieren damit die Eigenschaften des gewählten Models.\n",
    "\n",
    "### Hyperparameter eines neuronalen Netzes\n",
    "* Anzahl der Schichten\n",
    "* Anzahl der Neuronen pro Schicht\n",
    "* Aktivierungsfunktion\n",
    "* Optimierer\n",
    "* Lernrate\n",
    "* Batchgröße\n",
    "* Anzahl der Epochen\n",
    "* ..."
   ]
  },
  {
   "cell_type": "markdown",
   "metadata": {},
   "source": [
    "### Aktivierungsfunktionen\n",
    "\n",
    "#### Warum gibt es Aktivierungsfunktionen?\n",
    " Aktivierungsfunktionen werden verwendet, um dem neuronalen Netzwerk eine nicht lineare Eigenschaft zu verleihen. Auf diese Weise kann das Netz komplexere Beziehungen und Muster in den Daten modellieren. \n",
    "#### Beispiele für Aktivierungsfunktionen\n",
    "<img src=\"https://assets-global.website-files.com/5d7b77b063a9066d83e1209c/60d244bb0e12c94fb442c01e_pasted%20image%200%20(4).jpg\" alt=\"Lineare Aktiverungsfunktion\" height=\"300px\" />\n",
    "<img src=\"https://assets-global.website-files.com/5d7b77b063a9066d83e1209c/60d24547f85f71e3bd2339f8_pasted%20image%200%20(5).jpg\" alt=\"Sigmoid-Aktiverungsfunktion\" height=\"300px\" />\n",
    "<img src=\"https://assets-global.website-files.com/5d7b77b063a9066d83e1209c/60d24d1ac2cc1ded69730feb_relu.jpg\" alt=\"ReLu-Aktiverungsfunktion\" height=\"300px\" />\n",
    "\n",
    "* Die Lineare Aktivierungsfunktion ist die einfachste Aktivierungsfunktion und ist eine Gerade. Sie ist nicht sehr gut für die meisten Modelle geeignet, da sie nur lineare Beziehungen zwischen den Inputs und Outputs modellieren kann.\n",
    "* Die Sigmoid-Funktion wird oft für Hiddenlayer und die Ausgabe des Neuronalen Netzes verwendet, da sie eine Wahrscheinlichkeit zwischen 0 und 1 ausgibt. Sie ist sehr populär, jedoch hat sie an Beliebtheit verloren, da sie die Gradienten \"töten\" kann, wenn der Input sehr große Werte annimmt. Dies kann dazu führen, dass das Neuronale Netz nicht mehr lernt. \n",
    "* Die ReLu-Funktion ist eine weitere sehr beliebte Aktivierungsfunktion. Man könnte meinen dass sie ähnlich wie die lineare Funktion ist, da sie auch eine Gerade für $x>0$ ist. Jedoch ist sie nicht linear, da sie für $x<0$ eine Null ausgibt. Sie beschleunigt die Konvergenz des Gradientabstiegs in Richtung des globalen Minimums und kann so genutzt werden, um oft schneller zu lernen. Besonders bei der ReLu-Funktion muss man jedoch darauf achten, dass Neuronen nicht \"tot\" sind, also immer eine Null ausgeben. \n",
    "* **Softmax-Funktion**: Zur Softmax-Funktion gibt es keinen Graphen zu zeigen, da sie eine Funktion ist, die auf mehreren Neuronen angewendet wird. Sie wird oft für die Ausgabe des Neuronalen Netzes verwendet, da sie eine Wahrscheinlichkeit zwischen 0 und 1 für jede Klasse ausgibt (wie die Sigmoid-Funktion), jedoch auch dafür sorgt, dass die Summe aller *Wahrscheinlichkeiten* 1 ergibt. Daher eignet sie sich super für Klassifikationsprobleme wie das Erkennen von Ziffern (MNIST) oder das Erkennen von Tieren (CIFAR-10), da der Output dann eine Wahrscheinlichkeit für jede Klasse ausgibt."
   ]
  },
  {
   "cell_type": "markdown",
   "metadata": {},
   "source": [
    "### Epochen-Anzahl\n",
    "\n",
    "Die Anzahl der Epochen beschreibt, wie oft das Netz mit den kompletten Daten lernt (ein Epochen-Durchlauf = einmal alle Daten gesehen). Eine einzige Epoche reicht aber nicht aus, deswegen werden mehrere Epochen durchgeführt. Die optimale Anzahl der Epochen sorgt dafür, dass das Netz sehr gut auf den Daten gelernt hat, jedoch nicht zu sehr übertrainiert ist (Under- oder Overfitting). Wie viele Epochen am besten sind, kann man nicht pauschal sagen. Am einfachsten ist es, man trainiert das Modell so viele Epochen lang, bis man erkennt, dass das Netz nicht mehr lernt bzw die Kostenfunktion wieder ansteigt."
   ]
  },
  {
   "cell_type": "markdown",
   "metadata": {},
   "source": [
    "### Batch-Größe\n",
    "\n",
    "Die Batch-Größe beschreibt, wie viele Daten gleichzeitig in das Netz eingegeben werden. Der komplette Datensatz kann meistens nicht gleichzeitig in das Netz eingegeben werden, da das zu viel Speicherplatz benötigt. Deswegen werden die Daten in Batches aufgeteilt und einzeln in das Netz eingegeben. Nach jeder Batch (auch Mini-Batch genannt) finden die Parameter-Updates / Regulierung der Gewichte statt. Ist eine Batch-Größe von 1 gewählt, so wird jedes Mal nur ein Datensatz in das Netz eingegeben. Ist die Batch-Größe gleich der Anzahl der Daten, so wird der komplette Datensatz gleichzeitig in das Netz eingegeben. Eine Batch-Größe von 32 ist sehr häufig gewählt, da sie eine gute Balance zwischen Speicherplatz und Lerngeschwindigkeit bietet (32 ist auch der Standardwert in Keras). Ist die Batch-Größe zu groß, so kann es passieren, dass das Netz nicht mehr lernt, da die Parameter-Updates zu ungenau sind. Ist die Batch-Größe zu klein, so kann es passieren, dass das Netz zu lange braucht, um zu lernen."
   ]
  },
  {
   "cell_type": "markdown",
   "metadata": {},
   "source": [
    "### Lernrate\n",
    "<div style=\"display:flex; justify-content: center;\">\n",
    "<div>Die Lernrate bestimmt, wie stark die Parameter bei jeder Batch angepasst werden. Kleine Lernraten sorgen dafür, dass das Netz nicht so schnell lernt, konvergiert dafür aber reibungsloser. Große Lernraten beschleunigen den Lernprozess, jedoch kann es passieren, dass das Netz nicht mehr lernt, da die Parameter-Updates zu ungenau sind (Siehe Bild). Die Lernrate sollte also so gewählt werden, dass das Netz schnell lernt, jedoch nicht zu schnell lernt. Meistens ist es am besten, zuerst eine Lernrate von 0,1 oder 0,01 zu wählen und zu beobachten, wie gut das Modell damit trainiert. Dementsprechend kann die Lernrate angepasst werden.</div>\n",
    "\n",
    "<img src=\"https://miro.medium.com/max/1276/0*FA9UmDXdzYzuOpeO.jpg\" alt=\"Lernrate Veranschaulichung\" width=\"350px\" style=\"margin: 20px\" />\n",
    "</div>\n"
   ]
  },
  {
   "cell_type": "markdown",
   "metadata": {},
   "source": [
    "### Optimizers"
   ]
  },
  {
   "cell_type": "markdown",
   "metadata": {},
   "source": [
    "**Der richtige Optimizer Algorithmus kann die Trainingszeit exponentiell verringern.**\n",
    "\n",
    "Optimization: Optimizers sind Algorithmen, welche mithilfe der Veränderung der Attribute im Neuronalen Netz wie z.B. die Gewichte oder die Learning Rate versuchen die Kosten zu verringern. Folgende Grafik hilft bei der Veranschaulichung:\n",
    "\n",
    "<img src=\"https://miro.medium.com/max/1156/1*65Mxg_Yfq-L7AvaS0K5aGA.png\" alt=\"Learned Optimizer\" width=\"400px\" />\n",
    "\n",
    "Das Ziel des Optimizers ist es, das globale Minimum zu finden und dadurch die Kosten auf ein Minimum zu bringen. \n",
    "\n",
    "Nun werden wir mithilfe von Tensorflow ein Neuronales Netz programmieren und uns die einzelnen Optimizer an einem Beispiel anschauen."
   ]
  },
  {
   "cell_type": "code",
   "execution_count": 2,
   "metadata": {},
   "outputs": [],
   "source": [
    "import tensorflow as tf\n",
    "from tensorflow import keras\n",
    "import numpy as np\n",
    "import matplotlib.pyplot as plt\n",
    "\n",
    "\n",
    "# Laden des MNIST Datensatzes\n",
    "(train_images, train_labels), (test_images, test_labels) = keras.datasets.mnist.load_data()\n",
    "\n",
    "# Normalisieren der Pixelwerte  \n",
    "train_images = train_images / 255.0\n",
    "test_images = test_images / 255.0\n",
    "\n",
    "def get_model():\n",
    "  return keras.Sequential([\n",
    "    keras.layers.Flatten(input_shape=(28, 28)),\n",
    "    keras.layers.Dense(128, activation='relu'),\n",
    "    keras.layers.Dense(10, activation='sigmoid')\n",
    "  ])"
   ]
  },
  {
   "cell_type": "code",
   "execution_count": null,
   "metadata": {},
   "outputs": [],
   "source": [
    "model_sgd = get_model() # Modell mit Stochastic Gradient Descent Optimizer\n",
    "model_adam = get_model() # Modell mit Adam Optimizer\n",
    "model_rmsprop = get_model() # Modell mit RMSProp Optimizer\n",
    "\n",
    "model_adam.compile(\n",
    "    optimizer='adam',\n",
    "    loss='mean_squared_error',\n",
    "    metrics=['accuracy']\n",
    ")\n",
    "model_rmsprop.compile(\n",
    "    optimizer='rmsprop',\n",
    "    loss='mean_squared_error',\n",
    "    metrics=['accuracy']\n",
    ")\n",
    "model_sgd.compile(\n",
    "    optimizer='sgd',\n",
    "    loss='mean_squared_error',\n",
    "    metrics=['accuracy']\n",
    ")\n",
    "\n",
    "models = [model_adam, model_rmsprop, model_sgd]"
   ]
  },
  {
   "cell_type": "markdown",
   "metadata": {},
   "source": [
    "Test labels categorical:\n",
    "[[0. 0. 0. 0. 0. 0. 0. 1. 0. 0.]\n",
    " [0. 0. 1. 0. 0. 0. 0. 0. 0. 0.]]\n",
    "Verwendung der categorical_crossentropy gefordert\n",
    "\n",
    "\n",
    "Test labels non categorical:\n",
    "[7 2]\n",
    "Verwendung der sparse_categorical_crossentropy gefordert"
   ]
  },
  {
   "cell_type": "code",
   "execution_count": 3,
   "metadata": {},
   "outputs": [
    {
     "name": "stdout",
     "output_type": "stream",
     "text": [
      "Epoch 1/15\n",
      "1875/1875 [==============================] - 5s 3ms/step - loss: 0.0012 - accuracy: 0.9941 - val_loss: 0.0040 - val_accuracy: 0.9789\n",
      "Epoch 2/15\n",
      "1875/1875 [==============================] - 4s 2ms/step - loss: 0.0010 - accuracy: 0.9945 - val_loss: 0.0037 - val_accuracy: 0.9805\n",
      "Epoch 3/15\n",
      "1875/1875 [==============================] - 3s 2ms/step - loss: 9.9383e-04 - accuracy: 0.9946 - val_loss: 0.0036 - val_accuracy: 0.9824\n",
      "Epoch 4/15\n",
      "1875/1875 [==============================] - 4s 2ms/step - loss: 9.6458e-04 - accuracy: 0.9948 - val_loss: 0.0037 - val_accuracy: 0.9819\n",
      "Epoch 5/15\n",
      "1875/1875 [==============================] - 4s 2ms/step - loss: 9.6356e-04 - accuracy: 0.9948 - val_loss: 0.0038 - val_accuracy: 0.9815\n",
      "Epoch 6/15\n",
      "1875/1875 [==============================] - 3s 2ms/step - loss: 9.2324e-04 - accuracy: 0.9952 - val_loss: 0.0037 - val_accuracy: 0.9816\n",
      "Epoch 7/15\n",
      "1875/1875 [==============================] - 4s 2ms/step - loss: 8.3173e-04 - accuracy: 0.9953 - val_loss: 0.0038 - val_accuracy: 0.9802\n",
      "Epoch 8/15\n",
      "1875/1875 [==============================] - 4s 2ms/step - loss: 8.6156e-04 - accuracy: 0.9955 - val_loss: 0.0038 - val_accuracy: 0.9805\n",
      "Epoch 9/15\n",
      "1875/1875 [==============================] - 5s 3ms/step - loss: 7.7653e-04 - accuracy: 0.9956 - val_loss: 0.0037 - val_accuracy: 0.9807\n",
      "Epoch 10/15\n",
      "1875/1875 [==============================] - 5s 3ms/step - loss: 7.5337e-04 - accuracy: 0.9958 - val_loss: 0.0039 - val_accuracy: 0.9811\n",
      "Epoch 11/15\n",
      "1875/1875 [==============================] - 4s 2ms/step - loss: 7.7205e-04 - accuracy: 0.9957 - val_loss: 0.0040 - val_accuracy: 0.9798\n",
      "Epoch 12/15\n",
      "1875/1875 [==============================] - 4s 2ms/step - loss: 7.2513e-04 - accuracy: 0.9958 - val_loss: 0.0039 - val_accuracy: 0.9809\n",
      "Epoch 13/15\n",
      "1875/1875 [==============================] - 4s 2ms/step - loss: 6.9777e-04 - accuracy: 0.9959 - val_loss: 0.0040 - val_accuracy: 0.9804\n",
      "Epoch 14/15\n",
      "1875/1875 [==============================] - 4s 2ms/step - loss: 7.2939e-04 - accuracy: 0.9958 - val_loss: 0.0039 - val_accuracy: 0.9808\n",
      "Epoch 15/15\n",
      "1875/1875 [==============================] - 4s 2ms/step - loss: 6.4580e-04 - accuracy: 0.9960 - val_loss: 0.0038 - val_accuracy: 0.9807\n",
      "Epoch 1/15\n",
      "1875/1875 [==============================] - 4s 2ms/step - loss: 0.0015 - accuracy: 0.9916 - val_loss: 0.0042 - val_accuracy: 0.9789\n",
      "Epoch 2/15\n",
      "1875/1875 [==============================] - 4s 2ms/step - loss: 0.0014 - accuracy: 0.9921 - val_loss: 0.0041 - val_accuracy: 0.9792\n",
      "Epoch 3/15\n",
      "1875/1875 [==============================] - 4s 2ms/step - loss: 0.0014 - accuracy: 0.9922 - val_loss: 0.0041 - val_accuracy: 0.9801\n",
      "Epoch 4/15\n",
      "1875/1875 [==============================] - 4s 2ms/step - loss: 0.0013 - accuracy: 0.9925 - val_loss: 0.0042 - val_accuracy: 0.9805\n",
      "Epoch 5/15\n",
      "1875/1875 [==============================] - 4s 2ms/step - loss: 0.0012 - accuracy: 0.9929 - val_loss: 0.0043 - val_accuracy: 0.9779\n",
      "Epoch 6/15\n",
      "1875/1875 [==============================] - 4s 2ms/step - loss: 0.0012 - accuracy: 0.9931 - val_loss: 0.0039 - val_accuracy: 0.9806\n",
      "Epoch 7/15\n",
      "1875/1875 [==============================] - 4s 2ms/step - loss: 0.0011 - accuracy: 0.9935 - val_loss: 0.0046 - val_accuracy: 0.9783\n",
      "Epoch 8/15\n",
      "1875/1875 [==============================] - 4s 2ms/step - loss: 0.0011 - accuracy: 0.9937 - val_loss: 0.0040 - val_accuracy: 0.9805\n",
      "Epoch 9/15\n",
      "1875/1875 [==============================] - 4s 2ms/step - loss: 0.0010 - accuracy: 0.9937 - val_loss: 0.0042 - val_accuracy: 0.9797\n",
      "Epoch 10/15\n",
      "1875/1875 [==============================] - 3s 2ms/step - loss: 9.8903e-04 - accuracy: 0.9938 - val_loss: 0.0043 - val_accuracy: 0.9801\n",
      "Epoch 11/15\n",
      "1875/1875 [==============================] - 4s 2ms/step - loss: 9.4412e-04 - accuracy: 0.9942 - val_loss: 0.0042 - val_accuracy: 0.9803\n",
      "Epoch 12/15\n",
      "1875/1875 [==============================] - 4s 2ms/step - loss: 9.0136e-04 - accuracy: 0.9943 - val_loss: 0.0044 - val_accuracy: 0.9799\n",
      "Epoch 13/15\n",
      "1875/1875 [==============================] - 4s 2ms/step - loss: 8.6977e-04 - accuracy: 0.9944 - val_loss: 0.0041 - val_accuracy: 0.9805\n",
      "Epoch 14/15\n",
      "1875/1875 [==============================] - 4s 2ms/step - loss: 8.5663e-04 - accuracy: 0.9944 - val_loss: 0.0042 - val_accuracy: 0.9808\n",
      "Epoch 15/15\n",
      "1875/1875 [==============================] - 5s 2ms/step - loss: 8.0866e-04 - accuracy: 0.9946 - val_loss: 0.0040 - val_accuracy: 0.9811\n",
      "Epoch 1/15\n",
      "1875/1875 [==============================] - 4s 2ms/step - loss: 0.0270 - accuracy: 0.8741 - val_loss: 0.0258 - val_accuracy: 0.8849\n",
      "Epoch 2/15\n",
      "1875/1875 [==============================] - 3s 2ms/step - loss: 0.0263 - accuracy: 0.8766 - val_loss: 0.0251 - val_accuracy: 0.8867\n",
      "Epoch 3/15\n",
      "1875/1875 [==============================] - 3s 2ms/step - loss: 0.0256 - accuracy: 0.8787 - val_loss: 0.0244 - val_accuracy: 0.8886\n",
      "Epoch 4/15\n",
      "1875/1875 [==============================] - 3s 2ms/step - loss: 0.0250 - accuracy: 0.8807 - val_loss: 0.0239 - val_accuracy: 0.8906\n",
      "Epoch 5/15\n",
      "1875/1875 [==============================] - 3s 2ms/step - loss: 0.0245 - accuracy: 0.8830 - val_loss: 0.0234 - val_accuracy: 0.8922\n",
      "Epoch 6/15\n",
      "1875/1875 [==============================] - 3s 2ms/step - loss: 0.0240 - accuracy: 0.8848 - val_loss: 0.0229 - val_accuracy: 0.8940\n",
      "Epoch 7/15\n",
      "1875/1875 [==============================] - 3s 2ms/step - loss: 0.0235 - accuracy: 0.8866 - val_loss: 0.0224 - val_accuracy: 0.8952\n",
      "Epoch 8/15\n",
      "1875/1875 [==============================] - 3s 2ms/step - loss: 0.0231 - accuracy: 0.8882 - val_loss: 0.0220 - val_accuracy: 0.8978\n",
      "Epoch 9/15\n",
      "1875/1875 [==============================] - 3s 2ms/step - loss: 0.0227 - accuracy: 0.8895 - val_loss: 0.0217 - val_accuracy: 0.8986\n",
      "Epoch 10/15\n",
      "1875/1875 [==============================] - 3s 2ms/step - loss: 0.0223 - accuracy: 0.8912 - val_loss: 0.0213 - val_accuracy: 0.8995\n",
      "Epoch 11/15\n",
      "1875/1875 [==============================] - 3s 2ms/step - loss: 0.0220 - accuracy: 0.8924 - val_loss: 0.0210 - val_accuracy: 0.8997\n",
      "Epoch 12/15\n",
      "1875/1875 [==============================] - 3s 2ms/step - loss: 0.0217 - accuracy: 0.8933 - val_loss: 0.0207 - val_accuracy: 0.9014\n",
      "Epoch 13/15\n",
      "1875/1875 [==============================] - 3s 2ms/step - loss: 0.0214 - accuracy: 0.8944 - val_loss: 0.0204 - val_accuracy: 0.9028\n",
      "Epoch 14/15\n",
      "1875/1875 [==============================] - 3s 2ms/step - loss: 0.0211 - accuracy: 0.8955 - val_loss: 0.0201 - val_accuracy: 0.9039\n",
      "Epoch 15/15\n",
      "1875/1875 [==============================] - 3s 2ms/step - loss: 0.0208 - accuracy: 0.8965 - val_loss: 0.0198 - val_accuracy: 0.9044\n"
     ]
    }
   ],
   "source": [
    "_train_labels = keras.utils.to_categorical(train_labels, 10)\n",
    "_test_labels = keras.utils.to_categorical(test_labels, 10)\n",
    "\n",
    "#15 Epochen lang werden nun die einzelnen Modelle trainiert\n",
    "epochs=15\n",
    "history = [model.fit(train_images, _train_labels, epochs=epochs, validation_data=(test_images, _test_labels), verbose=True) for model in models] "
   ]
  },
  {
   "cell_type": "markdown",
   "metadata": {},
   "source": [
    "#### Vergleich der Genaugkaiten der verschiedenen Optimizer\n",
    "\n",
    "Das Ergebnis des Lernens plotten wir nun auf einen Graphen."
   ]
  },
  {
   "cell_type": "code",
   "execution_count": 7,
   "metadata": {},
   "outputs": [
    {
     "data": {
      "text/plain": [
       "<module 'matplotlib.pyplot' from 'c:\\\\Users\\\\paulg\\\\AppData\\\\Local\\\\Programs\\\\Python\\\\Python310\\\\lib\\\\site-packages\\\\matplotlib\\\\pyplot.py'>"
      ]
     },
     "execution_count": 7,
     "metadata": {},
     "output_type": "execute_result"
    },
    {
     "data": {
      "image/png": "[encoded data removed]",
      "text/plain": [
       "<Figure size 640x480 with 1 Axes>"
      ]
     },
     "metadata": {},
     "output_type": "display_data"
    }
   ],
   "source": [
    "def plot_learning_curve(ylim=0.6):\n",
    "    plt.figure()\n",
    "    plt.title(\"accuracy comparison\")\n",
    "    axes = plt.gca()\n",
    "    axes.set_ylim([ylim, 1])\n",
    "    plt.xlabel(\"Epoch\")\n",
    "    plt.ylabel(\"Accuracy\")\n",
    "    train_sizes = np.arange(1, 1 + len(history[0].history['accuracy']))\n",
    "\n",
    "    plt.grid()\n",
    "\n",
    "    plt.plot(\n",
    "        train_sizes,\n",
    "        history[0].history['accuracy'],\n",
    "        'o-',\n",
    "        color=(177/255, 6/255, 58/255),\n",
    "        label=\"Adam\"\n",
    "    )\n",
    "    plt.plot(\n",
    "        train_sizes,\n",
    "        history[1].history['accuracy'],\n",
    "        'o-',\n",
    "        color=(246/255, 168/255, 0),\n",
    "        label=\"RmsProp\"\n",
    "    )\n",
    "    \n",
    "    plt.plot(\n",
    "        train_sizes,\n",
    "        history[2].history['accuracy'],\n",
    "        'o-',\n",
    "        color='green',\n",
    "        label=\"Sgd\"\n",
    "    )\n",
    "\n",
    "    plt.legend(loc=\"best\")\n",
    "    return plt\n",
    "\n",
    "plot_learning_curve()"
   ]
  },
  {
   "cell_type": "markdown",
   "metadata": {},
   "source": [
    "### Gradient Descent\n",
    "\n",
    "Durch seine Einfachheit ist der Gradient Descent der meistebenutzte Optimizer. Vor allem findet er Anwendung bei Problemen mit Linearer Regression oder Klassifikation.\n",
    "Für Backpropagation in Neuronalen Netzen wird ebenfalls Gradient Descent verwendet.  \n",
    "\n",
    "\"Unter Gradient Descent versteht man einen Optimierungsalgorithmus, der das Minimum einer Funktion findet, indem er sich schrittweise in Richtung des stärksten Gefälles bewegt. Dies kann man sich anschaulich wie eine blinde Person vorstellen, die auf einem Berg steht, und einen im Tal gelegenen See erreichen möchte\"\n",
    "\n",
    "In der Praxis in unserem Besipiel würden wir zu Beginn einfach eine zufällige Position in unserer Kostenfunktion als Startposition festlegen und würden dann nach dem stärksten Gefälle suchen. Bei einer  Funktion mit zwei inputs, kann man das gut nachvollziehen. Wir würden einfach schauen, ob die Steigung m in y = mx + b negativ ist oder positiv. Ist die Steigung positiv bewegen wir uns nach links und wenn Sie negativ ist umgekehrt. Wir bewegen uns in der Schrittweite unserer Learning Rate. An der neuen Position, wiederholen wir das Ganze mit der Anzahl an Epochen die wir angegeben haben.\n",
    "Am Ende des Verlaufs sollten wir in einem Minimum landen, wobei das je nach Epochenanzahl, Learning Rate und Kostenfunktion nicht zwingend ist, aber auf jeden Fall erwünscht. Im Bild ist ein einfaches Beispiel zu sehen. \n",
    "\n",
    "<img src=\"https://1.cms.s81c.com/sites/default/files/2021-01-06/ICLH_Diagram_Batch_01_04-GradientDescent-WHITEBG_0.png\" alt=\"Einfaches Beispiel Gradient Descent\" width=\"400px\" />\n",
    "\n",
    "\n",
    "\n",
    "**Zu beachten:** \n",
    "Es ist nicht schwer ein Minimum mit dem Gradient Descent Verfahren zu finden, jedoch muss man beachten, dass nciht immer das globale Minimum gefunden wird, sondern je nach Startposition man in einem lokalen Minimum landet und dieses nicht immer die Resultate liefert, welche man sich wünscht. Das kann man umgehen, wenn man theoretisch n-viele verschiedene Startpositionen hat. Dann wird sich mit Sicherheit irgendwann eine Startposition finden, bei welcher das globale Minimum erreicht werden kann. Jedoch ist dieser Prozess sehr zeitaufwendig bei komplexen Problemen \n",
    "\n",
    "**Vorteile:**\n",
    "- Einfach auszurechnen\n",
    "- Einfach anzuwenden\n",
    "- Einfach zu verstehen\n",
    "\n",
    "**Nachteile:**\n",
    "- Kann im lokalen Minimum stecken bleiben\n",
    "- Die Gewichte werden nach jedem Durchlauf im gesamten Datenset angepasst, das kann bei großen Datensets zu einer großen zeitlichen Aufwand führen.\n",
    "- Benötigt viel Speicher um den Gradienten auf dem gesamten Datenset zu errechnen. Das fällt wieder bei großen Datensets ins Gewicht. \n",
    "\n",
    "Es gibt drei Arten von Gradient Descent Verfahren, welche wir uns nun genauer ansehen.\n"
   ]
  },
  {
   "cell_type": "markdown",
   "metadata": {},
   "source": [
    "#### Batch Gradient Descent\n",
    "\n",
    "Beim Batch Gradient Descent gehen wir durch alle Datensätze im Datensatz und berechnen am Ende der Epoche die Gesamtkosten. Die Gesamtkosten ergeben sich aus der Summe von den Kosten für jeden Datensatz. Das schauen wir uns genauer an einem Beispiel mit Hauspreisen an.\n",
    "\n",
    "<img src=\"https://photos.app.goo.gl/z4Swohe9841C36Kr9\" alt=\"Batch Gradient Descent Sample\" width=\"400px\" /> # Hier sollte die Tabelle sein\n",
    "\n",
    "Im Bild zu sehen ist ein Datensatz mit 3 Spalten (Fläche, Schlafzimmer und Preis) und mit 6 Datensätzen. Unser Ziel ist es den Preis vorherzusagen. Dafür haben wir folgende Formel:\n",
    "$$ \\hat{p} \\ ist \\ der \\ vorhergesagte\\ Preis $$\n",
    "$$ p \\ ist \\ der \\ tatsächliche\\ Preis $$\n",
    "$$w1, \\ w2 \\ sind \\ die \\ Gewichte $$\n",
    "$$b \\ ist \\ der \\ Bias $$\n",
    "$$f \\ ist \\ die \\ Fläche $$ \n",
    "$$s \\ ist \\ die \\ Anzahl \\ an \\ Schlafzimmern $$\n",
    "$$\\hat{p} = w1 * f + w2 * s + b$$\n",
    "\n",
    "In unserem Beispiel bestimmen wir einfach $$w1,w2,b = 1$$\n",
    "und rechnen nun für alle Datensätze die vorhergesagten Preise aus:\n",
    "$$\\hat{p1} = 1 * 2600 + 1 * 3 + 1 = 2604$$ \n",
    "$$\\hat{p2} = 1 * 3000 + 1 * 4 + 1 = 3005$$\n",
    "Das System ist nicht schwer zu erkennen, daher hören wir mit der Kalkulation an der Stelle auf, aber normalerweise würden wir das für alle Datensätze im Datensatz machen.\n",
    "Parallel zum errechnen der Preise erechnen wir für jeden einzelnen Datensatz die Kosten. Das erfolgt mit dieser Formel:\n",
    "$$k \\ sind \\ die\\ Kosten$$\n",
    "$$k = (\\hat{p1} - p1)^2$$\n",
    "\n"
   ]
  },
  {
   "cell_type": "markdown",
   "metadata": {},
   "source": [
    "#### Stochastic Gradient Descent"
   ]
  },
  {
   "cell_type": "markdown",
   "metadata": {},
   "source": [
    "#### Mini-Batch Gradient Descent"
   ]
  },
  {
   "cell_type": "markdown",
   "metadata": {},
   "source": [
    "#### Momentum"
   ]
  },
  {
   "cell_type": "markdown",
   "metadata": {},
   "source": [
    "#### Nesterov Accelerated Gradient"
   ]
  },
  {
   "cell_type": "markdown",
   "metadata": {},
   "source": [
    "#### Adagrad"
   ]
  },
  {
   "cell_type": "markdown",
   "metadata": {},
   "source": [
    "#### AdaDelta"
   ]
  },
  {
   "cell_type": "markdown",
   "metadata": {},
   "source": [
    "#### Adam"
   ]
  },
  {
   "cell_type": "markdown",
   "metadata": {},
   "source": [
    "<img src=\"https://miro.medium.com/max/1200/1*_osB82GKHBOT8k1idLqiqA.gif\" alt=\"Various Optimizers\" width=\"400px\" />"
   ]
  },
  {
   "cell_type": "markdown",
   "metadata": {},
   "source": [
    "#### Abschluss\n",
    "- Stochastic Gradient Descent\n",
    "führt immer zur optimalen Lösung, auch wenn das ganze ein wenig langsamer sein kann.\n",
    "\n",
    "- Bei seltsamen Datensets kann\n",
    "das Momentum Probleme bereiten und man erhält mit SGD die korrekte Lösung. Die Wahl des Optimizers bleibt Problemabhängig"
   ]
  },
  {
   "cell_type": "markdown",
   "metadata": {},
   "source": [
    "### Loss Functions"
   ]
  },
  {
   "cell_type": "markdown",
   "metadata": {},
   "source": [
    "#### Was ist eine Kostenfunktion?\n",
    "Eine Kostenfunktion ist eine mathematische Formel. Sie gibt wieder, wie gut ein gegebenes Model zu bestimmten Daten performed. Wir werden uns im Verlauf drei solcher Kostenfunktionen ansehen. Die wohl bekannteste Kostenfunktion unter Laien ist die Mean Squared Error (MSE) Funktion, da Sie oft schon in der Schule behandelt wird. Wir werden aber auch kurz auf die Sparse Categorical Crossentropy (SCCE) Funktion und die Categorical Crossentropy (CCE) Funktion eingehen. Das Ergebnis jeder Kostenfunktionen sind die Kosten, welche wir möglichst klein halten wollen. Je kleiner die Kosten desto besser fittet unser Model die Daten. Wir müssen nur aufpassen, dass wir nicht overfitten."
   ]
  },
  {
   "cell_type": "markdown",
   "metadata": {},
   "source": [
    "#### Mean Squared Error\n",
    "$$\n",
    "m = vorhergesagten \\; Zielwerte \n",
    "$$\n"
   ]
  },
  {
   "cell_type": "markdown",
   "metadata": {},
   "source": [
    "$$\n",
    "y = tatsächliche \\; Zielwerte \n",
    "$$"
   ]
  },
  {
   "cell_type": "markdown",
   "metadata": {},
   "source": [
    "$$\n",
    "MSE = \\frac{1}{n}\\sum_{i=1}^{n}(m-y)^2\n",
    "$$"
   ]
  },
  {
   "cell_type": "markdown",
   "metadata": {},
   "source": [
    "#### Caterogical Cross Entropy\n",
    "Im deutschen bekannt als Kreuzentropie.\n",
    "$$\n",
    "P = Wahrscheinlichkeit\n",
    "$$"
   ]
  },
  {
   "cell_type": "markdown",
   "metadata": {},
   "source": [
    "$$\n",
    "CCE = -\\sum_{i=1}P^*(i) \\log_{P(i)}\n",
    "$$"
   ]
  },
  {
   "cell_type": "markdown",
   "metadata": {},
   "source": [
    "#### Kostenfunktionen am Beispiel vom MNIST Datensatz\n",
    "Da der MNIST Datensatz von vorherigen Gruppen schon behandelt wurde, werden wir nicht weiter darauf eingehen, sondern werden uns voll und ganz den Kostenfunktionen widmen"
   ]
  },
  {
   "cell_type": "code",
   "execution_count": 2,
   "metadata": {},
   "outputs": [
    {
     "name": "stdout",
     "output_type": "stream",
     "text": [
      "Downloading data from https://storage.googleapis.com/tensorflow/tf-keras-datasets/mnist.npz\n",
      "11490434/11490434 [==============================] - 4s 0us/step\n"
     ]
    }
   ],
   "source": [
    "model_mse = get_model() # Modell mit Mean Squared Error Loss\n",
    "model_cce =  get_model() # Modell mit Categorical Crossentropy\n",
    "model_scce = get_model() # Modell mit Sparse Categorical Crossentropy\n",
    "\n",
    "optimizer = 'sgd'\n",
    "\n",
    "model_mse.compile(\n",
    "    optimizer=optimizer,\n",
    "    loss='mean_squared_error',\n",
    "    metrics=['accuracy']\n",
    ")\n",
    "model_cce.compile(\n",
    "    optimizer=optimizer,\n",
    "    loss='categorical_crossentropy',\n",
    "    metrics=['accuracy']\n",
    ")\n",
    "model_scce.compile(\n",
    "    optimizer=optimizer,\n",
    "    loss='sparse_categorical_crossentropy',\n",
    "    metrics=['accuracy']\n",
    ")\n",
    "  "
   ]
  },
  {
   "cell_type": "markdown",
   "metadata": {},
   "source": [
    "#### Trainiern der Modelle\n",
    "\n",
    "Dabei werden die Trainigsergebnisse in der history List gespeichert. \n",
    "\n",
    "Für das Training mit der Sparse Categorical Crossentropy müssen die Daten nicht geändert weden. Deswegen kann hier schon mit `model.fit()` trainiert werden. Dabei wird gleich ein Validierungsdatensatz festgelegt.\n",
    "\n",
    "Die anderen beiden Modell werden der models List hinzugefügt, um diese Trainieren zu können. "
   ]
  },
  {
   "cell_type": "code",
   "execution_count": 3,
   "metadata": {},
   "outputs": [
    {
     "name": "stdout",
     "output_type": "stream",
     "text": [
      "Epoch 1/15\n",
      "1875/1875 [==============================] - 5s 2ms/step - loss: 0.6490 - accuracy: 0.8356 - val_loss: 0.3588 - val_accuracy: 0.9040\n",
      "Epoch 2/15\n",
      "1875/1875 [==============================] - 5s 3ms/step - loss: 0.3414 - accuracy: 0.9043 - val_loss: 0.2954 - val_accuracy: 0.9185\n",
      "Epoch 3/15\n",
      "1875/1875 [==============================] - 5s 3ms/step - loss: 0.2942 - accuracy: 0.9171 - val_loss: 0.2672 - val_accuracy: 0.9275\n",
      "Epoch 4/15\n",
      "1875/1875 [==============================] - 5s 3ms/step - loss: 0.2642 - accuracy: 0.9258 - val_loss: 0.2452 - val_accuracy: 0.9317\n",
      "Epoch 5/15\n",
      "1875/1875 [==============================] - 5s 3ms/step - loss: 0.2411 - accuracy: 0.9325 - val_loss: 0.2243 - val_accuracy: 0.9374\n",
      "Epoch 6/15\n",
      "1875/1875 [==============================] - 5s 3ms/step - loss: 0.2222 - accuracy: 0.9375 - val_loss: 0.2087 - val_accuracy: 0.9406\n",
      "Epoch 7/15\n",
      "1875/1875 [==============================] - 5s 3ms/step - loss: 0.2060 - accuracy: 0.9424 - val_loss: 0.1987 - val_accuracy: 0.9439\n",
      "Epoch 8/15\n",
      "1875/1875 [==============================] - 4s 2ms/step - loss: 0.1925 - accuracy: 0.9460 - val_loss: 0.1849 - val_accuracy: 0.9485\n",
      "Epoch 9/15\n",
      "1875/1875 [==============================] - 4s 2ms/step - loss: 0.1806 - accuracy: 0.9491 - val_loss: 0.1750 - val_accuracy: 0.9503\n",
      "Epoch 10/15\n",
      "1875/1875 [==============================] - 5s 3ms/step - loss: 0.1699 - accuracy: 0.9521 - val_loss: 0.1654 - val_accuracy: 0.9521\n",
      "Epoch 11/15\n",
      "1875/1875 [==============================] - 5s 3ms/step - loss: 0.1606 - accuracy: 0.9549 - val_loss: 0.1581 - val_accuracy: 0.9542\n",
      "Epoch 12/15\n",
      "1875/1875 [==============================] - 4s 2ms/step - loss: 0.1522 - accuracy: 0.9573 - val_loss: 0.1536 - val_accuracy: 0.9564\n",
      "Epoch 13/15\n",
      "1875/1875 [==============================] - 4s 2ms/step - loss: 0.1447 - accuracy: 0.9592 - val_loss: 0.1447 - val_accuracy: 0.9585\n",
      "Epoch 14/15\n",
      "1875/1875 [==============================] - 4s 2ms/step - loss: 0.1376 - accuracy: 0.9614 - val_loss: 0.1396 - val_accuracy: 0.9611\n",
      "Epoch 15/15\n",
      "1875/1875 [==============================] - 5s 2ms/step - loss: 0.1316 - accuracy: 0.9627 - val_loss: 0.1351 - val_accuracy: 0.9608\n"
     ]
    }
   ],
   "source": [
    "epochs=15 # Festlegung von 15 Trainigsepochen\n",
    "history = [model_scce.fit(\n",
    "    train_images,\n",
    "    train_labels,\n",
    "    epochs=epochs,\n",
    "    validation_data=(test_images, test_labels),\n",
    "    verbose=True)\n",
    "]\n",
    "models = [model_mse, model_cce]"
   ]
  },
  {
   "cell_type": "markdown",
   "metadata": {},
   "source": [
    "#### Umwandlung der Labels in Categorical Labels \n",
    "(mehr dazu am Ende des Notebooks) \n",
    "\n",
    "Diese werden für das Training mit den anderen Loss Functions benötigt"
   ]
  },
  {
   "cell_type": "code",
   "execution_count": 4,
   "metadata": {},
   "outputs": [
    {
     "name": "stdout",
     "output_type": "stream",
     "text": [
      "Epoch 1/15\n",
      "1875/1875 [==============================] - 5s 2ms/step - loss: 0.1027 - accuracy: 0.2733 - val_loss: 0.0842 - val_accuracy: 0.4589\n",
      "Epoch 2/15\n",
      "1875/1875 [==============================] - 5s 3ms/step - loss: 0.0787 - accuracy: 0.5490 - val_loss: 0.0722 - val_accuracy: 0.6305\n",
      "Epoch 3/15\n",
      "1875/1875 [==============================] - 4s 2ms/step - loss: 0.0667 - accuracy: 0.6615 - val_loss: 0.0603 - val_accuracy: 0.7000\n",
      "Epoch 4/15\n",
      "1875/1875 [==============================] - 5s 3ms/step - loss: 0.0564 - accuracy: 0.7272 - val_loss: 0.0516 - val_accuracy: 0.7654\n",
      "Epoch 5/15\n",
      "1875/1875 [==============================] - 5s 3ms/step - loss: 0.0492 - accuracy: 0.7807 - val_loss: 0.0455 - val_accuracy: 0.8095\n",
      "Epoch 6/15\n",
      "1875/1875 [==============================] - 4s 2ms/step - loss: 0.0440 - accuracy: 0.8103 - val_loss: 0.0411 - val_accuracy: 0.8353\n",
      "Epoch 7/15\n",
      "1875/1875 [==============================] - 5s 3ms/step - loss: 0.0402 - accuracy: 0.8284 - val_loss: 0.0378 - val_accuracy: 0.8456\n",
      "Epoch 8/15\n",
      "1875/1875 [==============================] - 6s 3ms/step - loss: 0.0373 - accuracy: 0.8395 - val_loss: 0.0352 - val_accuracy: 0.8545\n",
      "Epoch 9/15\n",
      "1875/1875 [==============================] - 3s 2ms/step - loss: 0.0351 - accuracy: 0.8474 - val_loss: 0.0332 - val_accuracy: 0.8611\n",
      "Epoch 10/15\n",
      "1875/1875 [==============================] - 5s 3ms/step - loss: 0.0332 - accuracy: 0.8540 - val_loss: 0.0315 - val_accuracy: 0.8667\n",
      "Epoch 11/15\n",
      "1875/1875 [==============================] - 5s 3ms/step - loss: 0.0317 - accuracy: 0.8595 - val_loss: 0.0301 - val_accuracy: 0.8711\n",
      "Epoch 12/15\n",
      "1875/1875 [==============================] - 5s 3ms/step - loss: 0.0304 - accuracy: 0.8634 - val_loss: 0.0289 - val_accuracy: 0.8747\n",
      "Epoch 13/15\n",
      "1875/1875 [==============================] - 4s 2ms/step - loss: 0.0293 - accuracy: 0.8667 - val_loss: 0.0279 - val_accuracy: 0.8772\n",
      "Epoch 14/15\n",
      "1875/1875 [==============================] - 4s 2ms/step - loss: 0.0283 - accuracy: 0.8697 - val_loss: 0.0270 - val_accuracy: 0.8795\n",
      "Epoch 15/15\n",
      "1875/1875 [==============================] - 4s 2ms/step - loss: 0.0275 - accuracy: 0.8723 - val_loss: 0.0262 - val_accuracy: 0.8815\n",
      "Epoch 1/15\n",
      "1875/1875 [==============================] - 5s 3ms/step - loss: 0.6470 - accuracy: 0.8414 - val_loss: 0.3587 - val_accuracy: 0.9029\n",
      "Epoch 2/15\n",
      "1875/1875 [==============================] - 5s 2ms/step - loss: 0.3387 - accuracy: 0.9065 - val_loss: 0.2938 - val_accuracy: 0.9168\n",
      "Epoch 3/15\n",
      "1875/1875 [==============================] - 5s 2ms/step - loss: 0.2880 - accuracy: 0.9198 - val_loss: 0.2640 - val_accuracy: 0.9258\n",
      "Epoch 4/15\n",
      "1875/1875 [==============================] - 4s 2ms/step - loss: 0.2565 - accuracy: 0.9281 - val_loss: 0.2354 - val_accuracy: 0.9328\n",
      "Epoch 5/15\n",
      "1875/1875 [==============================] - 4s 2ms/step - loss: 0.2326 - accuracy: 0.9355 - val_loss: 0.2184 - val_accuracy: 0.9376\n",
      "Epoch 6/15\n",
      "1875/1875 [==============================] - 3s 2ms/step - loss: 0.2137 - accuracy: 0.9411 - val_loss: 0.2043 - val_accuracy: 0.9427\n",
      "Epoch 7/15\n",
      "1875/1875 [==============================] - 5s 2ms/step - loss: 0.1980 - accuracy: 0.9447 - val_loss: 0.1887 - val_accuracy: 0.9450\n",
      "Epoch 8/15\n",
      "1875/1875 [==============================] - 5s 3ms/step - loss: 0.1846 - accuracy: 0.9483 - val_loss: 0.1798 - val_accuracy: 0.9488\n",
      "Epoch 9/15\n",
      "1875/1875 [==============================] - 5s 3ms/step - loss: 0.1729 - accuracy: 0.9516 - val_loss: 0.1684 - val_accuracy: 0.9507\n",
      "Epoch 10/15\n",
      "1875/1875 [==============================] - 5s 3ms/step - loss: 0.1628 - accuracy: 0.9546 - val_loss: 0.1616 - val_accuracy: 0.9521\n",
      "Epoch 11/15\n",
      "1875/1875 [==============================] - 4s 2ms/step - loss: 0.1540 - accuracy: 0.9570 - val_loss: 0.1549 - val_accuracy: 0.9548\n",
      "Epoch 12/15\n",
      "1875/1875 [==============================] - 4s 2ms/step - loss: 0.1458 - accuracy: 0.9590 - val_loss: 0.1467 - val_accuracy: 0.9576\n",
      "Epoch 13/15\n",
      "1875/1875 [==============================] - 6s 3ms/step - loss: 0.1388 - accuracy: 0.9613 - val_loss: 0.1423 - val_accuracy: 0.9593\n",
      "Epoch 14/15\n",
      "1875/1875 [==============================] - 7s 3ms/step - loss: 0.1323 - accuracy: 0.9632 - val_loss: 0.1356 - val_accuracy: 0.9612\n",
      "Epoch 15/15\n",
      "1875/1875 [==============================] - 6s 3ms/step - loss: 0.1264 - accuracy: 0.9648 - val_loss: 0.1324 - val_accuracy: 0.9619\n"
     ]
    }
   ],
   "source": [
    "_train_labels = keras.utils.to_categorical(train_labels, 10)\n",
    "_test_labels = keras.utils.to_categorical(test_labels, 10)\n",
    "\n",
    "# Trainieren der anderen beiden Modelle\n",
    "history += [model.fit(train_images, _train_labels, epochs=epochs, validation_data=(test_images, _test_labels), verbose=True) for model in models]"
   ]
  },
  {
   "cell_type": "markdown",
   "metadata": {},
   "source": [
    "#### Plotten der Ergebnisse mit Matplotlib\n",
    "\n",
    "Über `plt.plot` werden die einzelnen Ergebnisse der Modelle in verschiedenen Farben eingebunden."
   ]
  },
  {
   "cell_type": "code",
   "execution_count": 5,
   "metadata": {},
   "outputs": [
    {
     "data": {
      "text/plain": [
       "<module 'matplotlib.pyplot' from 'c:\\\\Users\\\\paulg\\\\AppData\\\\Local\\\\Programs\\\\Python\\\\Python310\\\\lib\\\\site-packages\\\\matplotlib\\\\pyplot.py'>"
      ]
     },
     "execution_count": 5,
     "metadata": {},
     "output_type": "execute_result"
    },
    {
     "data": {
      "image/png": "[encoded data removed]",
      "text/plain": [
       "<Figure size 640x480 with 1 Axes>"
      ]
     },
     "metadata": {},
     "output_type": "display_data"
    }
   ],
   "source": [
    "def plot_learning_curve(ylim=0.6):\n",
    "    plt.figure()\n",
    "    plt.title(\"accuracy comparison\")\n",
    "    axes = plt.gca()\n",
    "    axes.set_ylim([ylim, 1])\n",
    "    plt.xlabel(\"Epoch\")\n",
    "    plt.ylabel(\"Accuracy\")\n",
    "    train_sizes = np.arange(1, 1 + len(history[0].history['accuracy']))\n",
    "    plt.ylim((0,1))\n",
    "    plt.grid()\n",
    "    plt.plot(\n",
    "        train_sizes,\n",
    "        history[0].history['accuracy'],\n",
    "        'o-',\n",
    "        color=(177/255, 6/255, 58/255),\n",
    "        label=\"scce\"\n",
    "    )\n",
    "    plt.plot(\n",
    "        train_sizes,\n",
    "        history[1].history['accuracy'],\n",
    "        'o-',\n",
    "        color=(246/255, 168/255, 0),\n",
    "        label=\"mse\")\n",
    "    \n",
    "    plt.plot(\n",
    "        train_sizes,\n",
    "        history[2].history['accuracy'],\n",
    "        'o-',\n",
    "        color='green',\n",
    "        label=\"cce\"\n",
    "    )\n",
    "\n",
    "    plt.legend(loc=\"best\")\n",
    "    return plt\n",
    "\n",
    "plot_learning_curve()"
   ]
  },
  {
   "cell_type": "markdown",
   "metadata": {},
   "source": [
    "- scce = Sparse Categorical Crossentropy\n",
    "- cce = Categorical Crossentropy\n",
    "- mse = Mean Squared Error"
   ]
  },
  {
   "cell_type": "markdown",
   "metadata": {},
   "source": [
    "#### Wann sollte man CategoricalCross Entropy nutzen und wann Sparse Categorical Crossentropy?\n",
    "\n",
    "für `Categorical Cross Entropy` müssen die Labels als Array mit einer 1 am Index der zugehören Klasse vorliegen.\n",
    "\n",
    "\n",
    "für `Sparse Categorical Cross Entropy` müssen die Labels mit Bezeichnung der Ausgangsklasse vorliegen."
   ]
  },
  {
   "cell_type": "code",
   "execution_count": 6,
   "metadata": {},
   "outputs": [
    {
     "name": "stdout",
     "output_type": "stream",
     "text": [
      "Test labels categorical:\n",
      "[[0. 0. 0. 0. 0. 0. 0. 1. 0. 0.]\n",
      " [0. 0. 1. 0. 0. 0. 0. 0. 0. 0.]]\n",
      "Verwendung der categorical_crossentropy gefordert\n",
      "\n",
      "\n",
      "Test labels non categorical:\n",
      "[7 2]\n",
      "Verwendung der sparse_categorical_crossentropy gefordert\n"
     ]
    }
   ],
   "source": [
    "_test_labels = keras.utils.to_categorical(test_labels, 10)\n",
    "\n",
    "print('Test labels categorical:')\n",
    "print(_test_labels[:2])\n",
    "print('Verwendung der categorical_crossentropy gefordert')\n",
    "print('\\n')\n",
    "print('Test labels non categorical:')\n",
    "print(test_labels[:2])\n",
    "print('Verwendung der sparse_categorical_crossentropy gefordert')"
   ]
  },
  {
   "cell_type": "markdown",
   "metadata": {},
   "source": [
    "Umwandlung in Categorical Werte:"
   ]
  },
  {
   "cell_type": "code",
   "execution_count": 7,
   "metadata": {},
   "outputs": [],
   "source": [
    "_test_labels = keras.utils.to_categorical(train_labels, 10)"
   ]
  },
  {
   "cell_type": "markdown",
   "metadata": {},
   "source": [
    "# Verbessern des Modells\n",
    "<!-- \n",
    "Aufzeigen, wie das Lernen verbessert und beschleunigt werden kann\n",
    "\n",
    "* Hyperparameter verbessern\n",
    "* Daten verbessern\n",
    "\n"
   ]
  },
  {
   "cell_type": "markdown",
   "metadata": {},
   "source": [
    "### Overfitting / Underfitting\n",
    "\n",
    "Overfitting ist ein Problem, welches bei jedem Modell auftreten kann. Es ist ein Phänomen, bei dem das Modell zu stark an die Trainingsdaten angepasst wird. Dadurch wird das Modell nicht mehr in der Lage sein, neue Daten zu erkennen. Das Modell lernt die Trainingsdaten zu gut und kann diese nicht mehr richtig einordnen. Das Modell wird zu spezifisch.\n",
    "\n",
    "Underfitting ist das Gegenteil von Overfitting. Das Modell ist nicht in der Lage, die Trainingsdaten richtig zu erkennen. Das Modell ist zu allgemein und kann die Trainingsdaten nicht richtig einordnen.\n",
    "\n",
    "<img src=\"https://miro.medium.com/max/1400/1*i_lp_hUFyUD_Sq4pLer28g.png\" alt=\"Over- / Underfitting Example\" height=\"300px\" />\n"
   ]
  },
  {
   "cell_type": "markdown",
   "metadata": {},
   "source": [
    "### Quellen\n",
    "\n",
    "\n",
    "1. <a href=\"https://towardsdatascience.com/machine-learning-for-beginners-an-introduction-to-neural-networks-d49f22d238f9\">Machine Learning for Beginners an Introduction to Neural Networks</a>\n",
    "2. <a href=\"https://learn.microsoft.com/de-de/training/modules/intro-machine-learning-keras/\">Coding Beispiel eines Neuronalen Netzes von Microsoft</a>\n",
    "3. <a href=\"https://open.hpi.de/courses/neuralnets2020/overview\">Online Kurs von OpenHPI zu Neuronalen Netzen</a>\n",
    "4. <a href=\"https://towardsdatascience.com/write-markdown-latex-in-the-jupyter-notebook-10985edb91fd\">Learn to write LaTeX in Jupyter Notebook</a>\n",
    "5. <a href=\"http://neuralnetworksanddeeplearning.com/\">Buch: Einführung in Neuronale Netze und Deep Learning</a>\n",
    "6. <a href=\"https://www.youtube.com/watch?v=aircAruvnKk\">Video: What is a Neural Network</a>\n",
    "7. <a href=\"https://www.youtube.com/watch?v=IHZwWFHWa-w\">Video: Gradient descent, how neural networks learn</a>\n",
    "8. <a href=\"https://www.youtube.com/watch?v=Ilg3gGewQ5U\">Video: What does Backpropagation do?</a>\n",
    "9. <a href=\"https://de.wikipedia.org/wiki/Kreuzentropie\">Wikipedia: Kreuzentropie</a>\n",
    "10. <a href=\"https://vitalflux.com/keras-categorical-cross-entropy-loss-function/#:~:text=categorical_crossentropy%3A%20Used%20as%20a%20loss%20function%20for%20multi-class,converted%20into%20categorical%20encoding%20using%20keras.utils%20to_categorical%20method.\">Article: Cross Entropy Loss Function </a>\n",
    "11. <a href=\"https://www.grund-wissen.de/informatik/latex/mathematischer-formelsatz.html#:~:text=Das%20Summenzeichen%20kann%20im%20Mathe-Modus%20mittels%20sum%20gedruckt,Syntax%20genutzt%20und%20somit%20sum_%20%7B%7D%5E%20%7B%7D%20geschrieben%3A\">Artikel: Mathematischer Formelsatz LaTeX</a>\n",
    "12. <a href=\"https://neuroforge.de/wie-optimiere-ich-ein-neuronales-netz/\">Artikel: Wie optimiere ich ein Neuronales Netz</a>\n",
    "13. <a href=\"https://towardsdatascience.com/optimizers-for-training-neural-network-59450d71caf6\">Article: Which is the best optimzer?</a>\n",
    "14. <a href=\"https://towardsdatascience.com/overview-of-various-optimizers-in-neural-networks-17c1be2df6d5\">Article: Overview of various Optimizers</a>\n",
    "15. <a href=\"https://methpsy.elearning.psych.tu-dresden.de/mediawiki/index.php/Gradient_Descent#:~:text=Unter%20Gradient%20Descent%20versteht%20man%20einen%20Optimierungsalgorithmus%2C%20der,und%20einen%20im%20Tal%20gelegenen%20See%20erreichen%20m%C3%B6chte.\">Artikel: TU Dresden zu Gradient Descent</a>\n",
    "16. <a href=\"https://towardsdatascience.com/epoch-vs-iterations-vs-batch-size-4dfb9c7ce9c9\">Artikel: Epochen vs Iterations vs Batchsizes</a>\n",
    "17. <a href=\"https://towardsdatascience.com/what-are-hyperparameters-and-how-to-tune-the-hyperparameters-in-a-deep-neural-network-d0604917584a\">Artikel: What are Hyperparameters and how to tune the hyperparameters in a deep neural network</a>\n",
    "18. <a href=\"https://www.youtube.com/watch?v=IU5fuoYBTAM&t=8s\">Video: Difference Batch-,Stochastic- and Mini-Batch Gradient Descent</a>\n",
    "19. <a href=\"\"></a>\n",
    "20. <a href=\"\"></a>\n",
    "21. <a href=\"\"></a>\n",
    "22. <a href=\"\"></a>\n",
    "\n",
    "### Dokumentation benutzter Libraries\n",
    "\n",
    "1. <a href=\"https://www.tensorflow.org/api_docs/python/tf/keras\">Keras</a>\n",
    "2. <a href=\"https://numpy.org/doc/stable/user/index.html#user\">Numpy</a>\n",
    "3. <a href=\"https://matplotlib.org/stable/api/pyplot_summary.html\">Matplotlib</a>\n",
    "4. <a href=\"https://www.tensorflow.org/api_docs/python/tf\">Tensorflow</a>\n",
    "5. <a href=\"https://scikit-learn.org/stable/\">Scikit-Learn</a>\n",
    "\n",
    "### Empfehlungen bei zusätzlichem Literatur-/Informationsbedarf\n",
    "\n",
    "1. <a href=\"https://towardsdatascience.com/\">Towards Data Science Blog</a>\n",
    "2. <a href=\"https://www.udemy.com/course/the-data-science-course-complete-data-science-bootcamp/\">Online Kurs zu ML und Data Science auf Udemy in Englisch</a>\n",
    "3. <a href=\"https://youtube.com/playlist?list=PLZHQObOWTQDNU6R1_67000Dx_ZCJB-3pi\">Youtube Videos über Neuronale Netze auf Englisch</a>\n",
    "4. <a href=\"\"></a>\n",
    "5. <a href=\"\"></a>"
   ]
  },
  {
   "cell_type": "markdown",
   "metadata": {},
   "source": []
  },
  {
   "cell_type": "markdown",
   "metadata": {},
   "source": []
  }
 ],
 "metadata": {
  "kernelspec": {
   "display_name": "Python 3.10.7 64-bit",
   "language": "python",
   "name": "python3"
  },
  "language_info": {
   "codemirror_mode": {
    "name": "ipython",
    "version": 3
   },
   "file_extension": ".py",
   "mimetype": "text/x-python",
   "name": "python",
   "nbconvert_exporter": "python",
   "pygments_lexer": "ipython3",
   "version": "3.10.7"
  },
  "vscode": {
   "interpreter": {
    "hash": "62d7c101cd41aeff87a25534bb33d35b2defd3e371ba2ce0dd0c5759cdc2ae9e"
   }
  }
 },
 "nbformat": 4,
 "nbformat_minor": 2
}
