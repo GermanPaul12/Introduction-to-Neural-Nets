{
 "cells": [
  {
   "cell_type": "markdown",
   "metadata": {},
   "source": [
    "# Einführung in Neuronale Netze\n",
    "\n",
    "<img src=\"https://upload.wikimedia.org/wikipedia/commons/3/3d/Neural_network.svg\" alt=\"Ein Neuronales Netz (vereinfacht)\" width=\"400px\" />"
   ]
  },
  {
   "cell_type": "markdown",
   "metadata": {},
   "source": [
    "## Inhaltsverzeichnis \n",
    "\n",
    "1. Einleitung\n",
    "2. einzelnes Neuron\n",
    "3. Einfaches Neuronales Netz\n",
    "4. Feedforward\n",
    "5. Backpropagation\n",
    "6. Hyperparameter \n",
    "7. Kostenfunktion\n",
    "8. Optimizer \n",
    "9. Overfitting und Underfitting \n"
   ]
  },
  {
   "cell_type": "markdown",
   "metadata": {},
   "source": [
    "## Einleitung\n",
    "\n",
    "> A single neuron in the brain is an incredibly complex machine that even today we don't understand. A single 'neuron' in a neural network is an incredibly simple mathematical function that captures a minuscule fraction of the complexity of a biological neuron. - Andrew Ng\n",
    "\n",
    "Ein Neuronales Netz zu Beginn, wenn man es noch nicht versteht sehr komplex und abstrakt wirken kann. Je mehr man jedoch in die Materie einsteigt, desto klarer wird, dass es doch eigentlich nur eine Menge mathematischer Operationen sind, die darauf abzielen einen bestimmten Wert zu minimieren. Trotz dieser eigentlichen Einfachheit setzen viele globale Player wie Apple, Microsoft, Google auf Neuronale Netze und implementieren diese gekonnt in Ihrem Unternehmen zur Klassifizierung, Recommendation-System und für viele weitere Bereiche.\n",
    "\n",
    "Daher freuen wir uns besonders in unserer Ausarbeitung und Präsentation das Thema vorzustellen. Um einen kurzen Ausblick zu geben, was wir behandeln werden: Wir werden den grundsätzlichen Aufbau eines Neuronalen Netzes beleuchten, die Hyperparameter, Kostenfunktionen und Optimizer vorstellen und in einigen Punkten darauf eingehen wie man diese richtig und passend für sein Model bestimmt. Das Erreichen wir zum Teil durch Text-Beschreibungen und Erklärungen und zum anderen haben wir uns Bilder-, Text- und Code-Beispiele überlegt, mit welchen die Themen leichter verständlich gemacht werden sollen.\n"
   ]
  },
  {
   "cell_type": "markdown",
   "metadata": {},
   "source": [
    "## Das einzelne Neuron\n",
    "<img src=\"https://miro.medium.com/max/856/1*O7YSSqlOdQuNgMrH7J_3dg.png\" alt=\"Das einzelne Neuron\" />\n",
    "\n",
    "Ein Neuronales Netz besteht aus vielen Neuronen, die miteinander verbunden sind. Dabei sind die Neuronen denen im Gehirn nachempfunden, welche untereinander verbunden sind und die aufeinander reagieren. Bei künstlichen Neuronalen Netzen hat jedes Neuron eine oder mehrere Eingaben $x_1...x_m$ und eine Ausgabe $o_j$. Die Eingaben werden mit Gewichten $w_1...w_m$ multipliziert und anschließend addiert ($ net_j = \\displaystyle\\sum_{i=1}^{m} (x_i \\cdot w_i) $). Des Weiteren gibt es einen Bias $b_j$ ($j$ steht für ein bestimmtes Neuron. Jedes Neuron hat einen eigenen Bias). Dieser wird auf diese Summe drauf addiert ($ net_j = \\displaystyle\\sum_{i=1}^{m} (x_i \\cdot w_i) + b_j $).Das Ergebnis wird dann in eine Aktivierungsfunktion $\\varphi_j(x)$  gegeben, welche das Ergebnis in die Ausgabe des Neurons umwandelt $o_j = \\varphi_j(net_j)$ und die dann ein Eingabewert (ein anderes $x$) für die nächsten Neuronen ist (oder die Ausgabe des Neuronalen Netzes darstellt, wenn das Neuron an der hintersten Ebene ist)."
   ]
  },
  {
   "cell_type": "markdown",
   "metadata": {},
   "source": [
    "### Einfaches Beispiel \n",
    " \n",
    "Wir nehmen an wir haben ein Neuron mit zwei Inputs, welches die Sigmoid Funktion als Aktivierungsfunktion verwendet. Die folgenden Parameter sind gegeben:\n",
    "\n",
    "$ w = [0, 1] == w1 = 0\\ und\\ w2 = 1 \\\\\n",
    "$ b = 4\n",
    "\n",
    "Nun geben wir dem Neuron ein input x mit x = [2, 3]\n",
    "\n",
    "$$\n",
    "(w*x)+b = ((w1 * x1) + (w2 * x2)) + b \n",
    "        = 0 * 2 + 1 * 3 + 4\n",
    "        = 7\n",
    "y = f(w * x + b) = f(7) = 0.999       \n",
    "$$  \n",
    "\n",
    "Für den Input x = [2, 3] bekommen wir einen Output von 0,999. Dieser Prozess in welchem man inputs eingibt, um ein Output zu bekommen ist bekannt als **feedforward** "
   ]
  },
  {
   "cell_type": "markdown",
   "metadata": {},
   "source": [
    "### Programmierung eines Neurons\n",
    "\n",
    "Um das Neuron zu programmieren importieren wir Numpy. Numpy ist eine beliebte Python Library, um mit Zahlen zu rechnen. "
   ]
  },
  {
   "cell_type": "code",
   "execution_count": 1,
   "metadata": {},
   "outputs": [
    {
     "name": "stdout",
     "output_type": "stream",
     "text": [
      "0.9990889488055994\n"
     ]
    }
   ],
   "source": [
    "#Wir importieren numpy als np um numpy nicht immer ausschreiben zu müssen\n",
    "import numpy as np\n",
    "\n",
    "\n",
    "def sigmoid(x):\n",
    "  # Unsere Aktivierungsfunktion: f(x) = 1 / (1 + e^(-x))\n",
    "  return 1 / (1 + np.exp(-x))\n",
    "\n",
    "class Neuron:\n",
    "  def __init__(self, weights, bias):\n",
    "    self.weights = weights\n",
    "    self.bias = bias\n",
    "\n",
    "  def feedforward(self, inputs):\n",
    "    # Gewichtsinputs, Addiere Gewichte und dann nutze die Aktivierungsfunktion\n",
    "    # np.dot ist eine Funktion um zwei Arrays zu multiplizieren \n",
    "    total = np.dot(self.weights, inputs) + self.bias\n",
    "    return sigmoid(total)\n",
    "\n",
    "weights = np.array([0, 1]) # w1 = 0, w2 = 1\n",
    "bias = 4                   # b = 4\n",
    "n = Neuron(weights, bias)\n",
    "\n",
    "x = np.array([2, 3])       # x1 = 2, x2 = 3\n",
    "print(n.feedforward(x))    # 0.9990889488055994"
   ]
  },
  {
   "cell_type": "markdown",
   "metadata": {},
   "source": [
    "Wie man sieht, kommen wir mit unserem selbstgecodeten Neuron auf dasselbe Ergebnis, wie zuvor nur mit Mathe."
   ]
  },
  {
   "attachments": {
    "network.svg": {
     "image/svg+xml": [
      "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"
     ]
    }
   },
   "cell_type": "markdown",
   "metadata": {},
   "source": [
    "## Einfaches Neuronales Netz \n",
    "\n",
    "Ein neuronales Netz ist im Endeffekt nur eine Verbindung vieler einzelner Neuronen. So kann ein einfaches Neuronales Netz aussehen:\n",
    "\n",
    "![https://victorzhou.com/77ed172fdef54ca1ffcfb0bba27ba334/network.svg](attachment:network.svg)\n",
    "\n",
    "Dieses Neuronale Netz hat zwei Inputs (x1 und x2): ein Hiddenlayer mit zwei Neuronen (h1 und h2) und ein Outputlayer mit einem Neuron (o1). \n",
    "\n",
    "Der Input für o1, sind die Outputs von h1 und h2, jeweils mit ihren Gewichten multipliziert und dann aufaddiert.\n",
    "\n",
    "Ein Hiddenlayer ist jedes Layer zwischen dem ersten Layer dem Inputlayer und dem letzten Layer dem Outputlayer. Es kann mehrere Hiddenlayer geben.\n",
    "\n",
    "### Ein Beispiel für Feedforward\n",
    "\n",
    "Wir benutzen das Netzwerk von oben und nehmen an, dass alle Neuronen die selben Gewichte haben w = [0, 1], dasselbe gilt für den Bias b=0 und die selbe Aktivierungsfunktion Sigmoid. Nun schauen wir uns die Outputs für den Input x = [2, 3] an.\n",
    "\n",
    "$$\n",
    "h1 = h2 = f(w*x+b) \\\\ \n",
    "        = f((0 * 2) + (1 * 3) + 0) \\\\ \n",
    "        = f(3) \\\\ \n",
    "        = 0.9526\n",
    "$$\n",
    "\n",
    "$$\n",
    "o1 = f(w * [h1, h2] + b) \\\\\n",
    "= f((0 * h1) + (1 * h2) + 0) \\\\\n",
    "= f(0.9526) \\\\\n",
    "= 0.7216\n",
    "$$\n",
    "\n",
    "Der Output für den Input x = [2,3] ist 0.7216"
   ]
  },
  {
   "cell_type": "markdown",
   "metadata": {},
   "source": [
    "## Ein künstliches Neuronales Netz\n",
    "<img src=\"https://1.cms.s81c.com/sites/default/files/2021-01-06/ICLH_Diagram_Batch_01_03-DeepNeuralNetwork-WHITEBG.png\" alt=\"Ein neuronales Netz\" width=\"400px\" />\n",
    "\n",
    "### Aufbau eines neuronalen Netzes\n",
    "\n",
    "Ein neuronales Netz besteht immer aus mindestens einer Schicht mit jeweils mindestens einem Neuron. Die zu verarbeitenden Daten werden in die erste Schicht Neuronen gegeben (Input-Layer), wird dann durch das Netz verarbeitet und in der letzte Schicht bildet ein oder mehr Neuronen die Ausgabe (die Anzahl von Neuronen pro Schicht – vor allem bei der Ein- und Ausgabeschicht – wird meistens vom Anwendungsfall bestimmt). Meistens sind alle Neuronen einer Schicht mit den Neuronen der nächsten Schicht verknüpft, das heißt die Ausgaben aller Neuronen einer Schicht sind Eingaben für die Neuronen der nächsten Schicht (das ist aber nicht zwingend so!). Bevor die Eingabewerte jedoch addiert werden und ihren Weg durch die Aktivierungsfunktion gehen, wird jede Ausgabe eines Neurons zu einem anderen mit einem eigenen Gewicht multipliziert. Dabei hat jede Verbindung ein eigenes Gewicht. Die Gewichte werden beim Training des neuronalen Netzes angepasst, sodass das Netz besser lernt, und eben diese Gewichte gilt es so zu wählen, dass das Neuronale Netz die besten Ausgaben gibt. Am Anfang werden diese Gewichte meist mit einem zufälligen Wert initialisiert (ist auch der Standardwert in den meisten Frameworks)."
   ]
  },
  {
   "cell_type": "markdown",
   "metadata": {},
   "source": [
    "### Backpropagation\n",
    "\n",
    "Backpropagation ist die bekannteste Methode, wie die Gewichte eines neuronalen Netzes beim überwachten Lernen angepasst werden. Dabei wird der Fehler der Ausgabe mit der gewünschten Ausgabe verglichen und die Gewichte so angepasst, dass der Fehler möglichst klein wird. Wie groß der errechnete Wert des Fehlers ist, hängt davon ab, welche Loss Function / Kostenfunktion man benutzt (wird später noch genauer erklärt). Die Backpropagation erhielt ihren Namen, weil die Gewichte \"rückwärts\" von der letzten Schicht bis hin zum Anfang des Netzes angepasst werden."
   ]
  },
  {
   "cell_type": "markdown",
   "metadata": {},
   "source": [
    "## Hyperparameter\n",
    "\n",
    "Hyperparameter sind Parameter, die vor der Durchführung des gewählten Ansatzes an das Model übergeben werden. Diese definieren damit die Eigenschaften des gewählten Models.\n",
    "\n",
    "### Hyperparameter eines neuronalen Netzes\n",
    "* Anzahl der Schichten\n",
    "* Anzahl der Neuronen pro Schicht\n",
    "* Aktivierungsfunktion\n",
    "* Optimierer\n",
    "* Lernrate\n",
    "* Batchgröße\n",
    "* Anzahl der Epochen\n",
    "* Kostenfunktion"
   ]
  },
  {
   "cell_type": "markdown",
   "metadata": {},
   "source": [
    "### Aktivierungsfunktionen\n",
    "\n",
    "#### Warum gibt es Aktivierungsfunktionen?\n",
    " Aktivierungsfunktionen werden verwendet, um dem neuronalen Netzwerk eine nicht lineare Eigenschaft zu verleihen. Auf diese Weise kann das Netz komplexere Beziehungen und Muster in den Daten modellieren. \n",
    "#### Beispiele für Aktivierungsfunktionen\n",
    "<img src=\"https://assets-global.website-files.com/5d7b77b063a9066d83e1209c/60d244bb0e12c94fb442c01e_pasted%20image%200%20(4).jpg\" alt=\"Lineare Aktiverungsfunktion\" height=\"300px\" />\n",
    "<img src=\"https://assets-global.website-files.com/5d7b77b063a9066d83e1209c/60d24547f85f71e3bd2339f8_pasted%20image%200%20(5).jpg\" alt=\"Sigmoid-Aktiverungsfunktion\" height=\"300px\" />\n",
    "<img src=\"https://assets-global.website-files.com/5d7b77b063a9066d83e1209c/60d24d1ac2cc1ded69730feb_relu.jpg\" alt=\"ReLu-Aktiverungsfunktion\" height=\"300px\" />\n",
    "\n",
    "* Die Lineare Aktivierungsfunktion ist die einfachste Aktivierungsfunktion und ist eine Gerade. Sie ist nicht sehr gut für die meisten Modelle geeignet, da sie nur lineare Beziehungen zwischen den Inputs und Outputs modellieren kann.\n",
    "* Die Sigmoid-Funktion wird oft für Hiddenlayer und die Ausgabe des Neuronalen Netzes verwendet, da sie eine Wahrscheinlichkeit zwischen 0 und 1 ausgibt. Sie ist sehr populär, jedoch hat sie an Beliebtheit verloren, da sie die Gradienten \"töten\" kann, wenn der Input sehr große Werte annimmt. Dies kann dazu führen, dass das Neuronale Netz nicht mehr lernt. \n",
    "* Die ReLu-Funktion ist eine weitere sehr beliebte Aktivierungsfunktion. Man könnte meinen dass sie ähnlich wie die lineare Funktion ist, da sie auch eine Gerade für $x>0$ ist. Jedoch ist sie nicht linear, da sie für $x<0$ eine Null ausgibt. Sie beschleunigt die Konvergenz des Gradientabstiegs in Richtung des globalen Minimums und kann so genutzt werden, um oft schneller zu lernen. Besonders bei der ReLu-Funktion muss man jedoch darauf achten, dass Neuronen nicht \"tot\" sind, also immer eine Null ausgeben. \n",
    "* **Softmax-Funktion**: Zur Softmax-Funktion gibt es keinen Graphen zu zeigen, da sie eine Funktion ist, die auf mehreren Neuronen angewendet wird. Sie wird oft für die Ausgabe des Neuronalen Netzes verwendet, da sie eine Wahrscheinlichkeit zwischen 0 und 1 für jede Klasse ausgibt (wie die Sigmoid-Funktion), jedoch auch dafür sorgt, dass die Summe aller *Wahrscheinlichkeiten* 1 ergibt. Daher eignet sie sich super für Klassifikationsprobleme wie das Erkennen von Ziffern (MNIST) oder das Erkennen von Tieren (CIFAR-10), da der Output dann eine Wahrscheinlichkeit für jede Klasse ausgibt."
   ]
  },
  {
   "cell_type": "markdown",
   "metadata": {},
   "source": [
    "### Epochen-Anzahl\n",
    "\n",
    "Die Anzahl der Epochen beschreibt, wie oft das Netz mit den kompletten Daten lernt (ein Epochen-Durchlauf = einmal alle Daten gesehen). Eine einzige Epoche reicht aber nicht aus, deswegen werden mehrere Epochen durchgeführt. Die optimale Anzahl der Epochen sorgt dafür, dass das Netz sehr gut auf den Daten gelernt hat, jedoch nicht zu sehr übertrainiert ist (Under- oder Overfitting). Wie viele Epochen am besten sind, kann man nicht pauschal sagen. Am einfachsten ist es, man trainiert das Modell so viele Epochen lang, bis man erkennt, dass das Netz nicht mehr lernt bzw die Kostenfunktion wieder ansteigt."
   ]
  },
  {
   "cell_type": "code",
   "execution_count": 3,
   "metadata": {},
   "outputs": [
    {
     "data": {
      "image/png": "[encoded data removed]",
      "text/plain": [
       "<Figure size 640x480 with 1 Axes>"
      ]
     },
     "metadata": {},
     "output_type": "display_data"
    }
   ],
   "source": [
    "# Vergleich zwischen meherern Modellen mit unterschiedlicher Epochen-Anzahl\n",
    "from mnist_model import get_trained_mnist_model, plot_accuracy_by_total_epochs\n",
    "\n",
    "# Trainiere 3 Modelle mit unterschiedlichen Epochen-Anzahlen\n",
    "models = [\n",
    "    get_trained_mnist_model(epochs=5),\n",
    "    get_trained_mnist_model(epochs=10),\n",
    "    get_trained_mnist_model(epochs=15),\n",
    "]\n",
    "\n",
    "# Plotten der Ergebnisse\n",
    "plot_accuracy_by_total_epochs(models)\n"
   ]
  },
  {
   "cell_type": "markdown",
   "metadata": {},
   "source": [
    "### Batch-Größe\n",
    "\n",
    "Die Batch-Größe beschreibt, wie viele Daten gleichzeitig in das Netz eingegeben werden. Der komplette Datensatz kann meistens nicht gleichzeitig in das Netz eingegeben werden, da das zu viel Speicherplatz benötigt. Deswegen werden die Daten in Batches aufgeteilt und einzeln in das Netz eingegeben. Nach jeder Batch (auch Mini-Batch genannt) finden die Parameter-Updates / Regulierung der Gewichte statt. Ist eine Batch-Größe von 1 gewählt, so wird jedes Mal nur ein Datensatz in das Netz eingegeben. Ist die Batch-Größe gleich der Anzahl der Daten, so wird der komplette Datensatz gleichzeitig in das Netz eingegeben. Eine Batch-Größe von 32 ist sehr häufig gewählt, da sie eine gute Balance zwischen Speicherplatz und Lerngeschwindigkeit bietet (32 ist auch der Standardwert in Keras). Ist die Batch-Größe zu groß, so kann es passieren, dass das Netz nicht mehr lernt, da die Parameter-Updates zu ungenau sind. Ist die Batch-Größe zu klein, so kann es passieren, dass das Netz zu lange braucht, um zu lernen."
   ]
  },
  {
   "cell_type": "code",
   "execution_count": 2,
   "metadata": {},
   "outputs": [
    {
     "data": {
      "image/png": "[encoded data removed]",
      "text/plain": [
       "<Figure size 640x480 with 1 Axes>"
      ]
     },
     "metadata": {},
     "output_type": "display_data"
    }
   ],
   "source": [
    "# Vergleich zwischen meherern Modellen mit unterschiedlicher Batch-Größe\n",
    "from mnist_model import get_trained_mnist_model, plot_accuracy_by_batch_size\n",
    "\n",
    "# Trainiere 6 Modelle mit unterschiedlichen Batch-Größen\n",
    "models = [\n",
    "    get_trained_mnist_model(batch_size=8),\n",
    "    get_trained_mnist_model(batch_size=32),\n",
    "    get_trained_mnist_model(batch_size=64),\n",
    "    get_trained_mnist_model(batch_size=256),\n",
    "    get_trained_mnist_model(batch_size=512),\n",
    "    get_trained_mnist_model(batch_size=1024)\n",
    "]\n",
    "\n",
    "# Plotten der Ergebnisse\n",
    "plot_accuracy_by_batch_size(models, [8, 32, 64, 256, 512, 1024])"
   ]
  },
  {
   "cell_type": "markdown",
   "metadata": {},
   "source": [
    "Wie man erkennt, ergibt sich bis zu einer Batch-Size von 64 so gut wie keine Veränderung in der Genauigkeit, jedoch wird die Lerngeschwindigkeit deutlich erhöht!"
   ]
  },
  {
   "cell_type": "markdown",
   "metadata": {},
   "source": [
    "### Lernrate\n",
    "<div style=\"display:flex; justify-content: center;\">\n",
    "<div>Die Lernrate bestimmt, wie stark die Parameter bei jeder Batch angepasst werden. Kleine Lernraten sorgen dafür, dass das Netz nicht so schnell lernt, konvergiert dafür aber reibungsloser. Große Lernraten beschleunigen den Lernprozess, jedoch kann es passieren, dass das Netz nicht mehr lernt, da die Parameter-Updates zu ungenau sind (Siehe Bild). Die Lernrate sollte also so gewählt werden, dass das Netz schnell lernt, jedoch nicht zu schnell lernt. Meistens ist es am besten, zuerst eine Lernrate von 0,1 oder 0,01 zu wählen und zu beobachten, wie gut das Modell damit trainiert. Dementsprechend kann die Lernrate angepasst werden.</div>\n",
    "\n",
    "<img src=\"https://miro.medium.com/max/1276/0*FA9UmDXdzYzuOpeO.jpg\" alt=\"Lernrate Veranschaulichung\" width=\"350px\" style=\"margin: 20px\" />\n",
    "</div>\n"
   ]
  },
  {
   "cell_type": "code",
   "execution_count": 1,
   "metadata": {},
   "outputs": [
    {
     "data": {
      "image/png": "[encoded data removed]",
      "text/plain": [
       "<Figure size 640x480 with 1 Axes>"
      ]
     },
     "metadata": {},
     "output_type": "display_data"
    }
   ],
   "source": [
    "# Vergleich zwischen meherern Modellen mit unterschiedlicher Batch-Größe\n",
    "from mnist_model import get_trained_mnist_model, plot_loss_by_learning_rate\n",
    "from keras.optimizers import Adam\n",
    "\n",
    "# Trainiere 5 Modelle mit unterschiedlichen Batch-Größen\n",
    "# In diesem Beispiel wird der \"Adam\" Optimizer verwendet.\n",
    "# Dieser und weitere Optimizer werden im nächsten Kaptiel behandelt.\n",
    "models = [\n",
    "    get_trained_mnist_model(\n",
    "        10, batch_size=64, optimizer=Adam(learning_rate=0.001)),\n",
    "    get_trained_mnist_model(\n",
    "        10, batch_size=64, optimizer=Adam(learning_rate=0.005)),\n",
    "    get_trained_mnist_model(\n",
    "        10, batch_size=64, optimizer=Adam(learning_rate=0.01)),\n",
    "    get_trained_mnist_model(\n",
    "        10, batch_size=64, optimizer=Adam(learning_rate=0.015)),\n",
    "    get_trained_mnist_model(\n",
    "        10, batch_size=64, optimizer=Adam(learning_rate=0.02)),\n",
    "    get_trained_mnist_model(\n",
    "        10, batch_size=64, optimizer=Adam(learning_rate=0.03)),\n",
    "    get_trained_mnist_model(\n",
    "        10, batch_size=64, optimizer=Adam(learning_rate=0.05)),\n",
    "]\n",
    "\n",
    "# Plotten der Ergebnisse\n",
    "plot_loss_by_learning_rate(\n",
    "    models, [0.001, 0.005, 0.01, 0.015, 0.02, 0.03, 0.05])"
   ]
  },
  {
   "cell_type": "markdown",
   "metadata": {},
   "source": [
    "Dem Graphen ist zu entnehmen, dass die Modelle mit einer Lernrate von 0.001-0.01 ähnlich gut performen. Ab einer Lernrate von 0.015 lässt sich erkennen, dass das Modell ab einer bestimmten Epochen keinen Fortschritt mehr macht,\n",
    "da die Kostenfunktion nicht mehr sinkt. Bei einer Lernrate ab 0.03 fällt die Kostenfunktion gar nicht, da sich das Model nicht dem globalen Minimum nähern kann, da die Schritte zu groß sind (Siehe Grafik)."
   ]
  },
  {
   "cell_type": "markdown",
   "metadata": {},
   "source": [
    "### Optimizer"
   ]
  },
  {
   "cell_type": "markdown",
   "metadata": {},
   "source": [
    "**\"Der richtige Optimizer Algorithmus kann die Trainingszeit exponentiell verringern.\"**\n",
    "\n",
    "Der Optimizer in einem Neuronalen Netz beschreibt wie das Neuronale Netz lernt. \n",
    "Optimization: Optimizer sind Algorithmen, welche mithilfe der Veränderung der Attribute im Neuronalen Netz wie z.B. die Gewichte oder die Learning Rate versuchen die Kosten zu verringern. Folgende Grafik hilft bei der Veranschaulichung:\n",
    "\n",
    "<img src=\"https://miro.medium.com/max/1156/1*65Mxg_Yfq-L7AvaS0K5aGA.png\" alt=\"Learned Optimizer\" width=\"400px\" />\n",
    "\n",
    "Das Ziel des Optimizers ist es, das globale Minimum zu finden und dadurch die Kosten auf ein Minimum zu bringen. \n",
    "\n",
    "Nun werden wir mithilfe von Tensorflow ein Neuronales Netz programmieren und uns ein paar Beispiele zu Optimizern anschauen."
   ]
  },
  {
   "cell_type": "code",
   "execution_count": 2,
   "metadata": {},
   "outputs": [],
   "source": [
    "import tensorflow as tf\n",
    "from tensorflow import keras\n",
    "import numpy as np\n",
    "import matplotlib.pyplot as plt\n",
    "\n",
    "\n",
    "# Laden des MNIST Datensatzes\n",
    "(train_images, train_labels), (test_images, test_labels) = keras.datasets.mnist.load_data()\n",
    "\n",
    "# Normalisieren der Pixelwerte  \n",
    "train_images = train_images / 255.0\n",
    "test_images = test_images / 255.0\n",
    "\n",
    "def get_model():\n",
    "  return keras.Sequential([\n",
    "    keras.layers.Flatten(input_shape=(28, 28)),\n",
    "    keras.layers.Dense(128, activation='relu'),\n",
    "    keras.layers.Dense(10, activation='softmax')\n",
    "  ])"
   ]
  },
  {
   "cell_type": "code",
   "execution_count": null,
   "metadata": {},
   "outputs": [],
   "source": [
    "model_sgd = get_model() # Modell mit Stochastic Gradient Descent Optimizer\n",
    "model_adam = get_model() # Modell mit Adam Optimizer\n",
    "model_rmsprop = get_model() # Modell mit RMSProp Optimizer\n",
    "\n",
    "model_adam.compile(\n",
    "    optimizer='adam',\n",
    "    loss='mean_squared_error',\n",
    "    metrics=['accuracy']\n",
    ")\n",
    "model_rmsprop.compile(\n",
    "    optimizer='rmsprop',\n",
    "    loss='mean_squared_error',\n",
    "    metrics=['accuracy']\n",
    ")\n",
    "model_sgd.compile(\n",
    "    optimizer='sgd',\n",
    "    loss='mean_squared_error',\n",
    "    metrics=['accuracy']\n",
    ")\n",
    "\n",
    "models = [model_adam, model_rmsprop, model_sgd]"
   ]
  },
  {
   "cell_type": "markdown",
   "metadata": {},
   "source": [
    "Test labels categorical:\n",
    "[[0. 0. 0. 0. 0. 0. 0. 1. 0. 0.]\n",
    " [0. 0. 1. 0. 0. 0. 0. 0. 0. 0.]]\n",
    "Verwendung der categorical_crossentropy gefordert\n",
    "\n",
    "\n",
    "Test labels non categorical:\n",
    "[7 2]\n",
    "Verwendung der sparse_categorical_crossentropy gefordert"
   ]
  },
  {
   "cell_type": "code",
   "execution_count": 3,
   "metadata": {},
   "outputs": [
    {
     "name": "stdout",
     "output_type": "stream",
     "text": [
      "Epoch 1/15\n",
      "1875/1875 [==============================] - 5s 3ms/step - loss: 0.0012 - accuracy: 0.9941 - val_loss: 0.0040 - val_accuracy: 0.9789\n",
      "Epoch 2/15\n",
      "1875/1875 [==============================] - 4s 2ms/step - loss: 0.0010 - accuracy: 0.9945 - val_loss: 0.0037 - val_accuracy: 0.9805\n",
      "Epoch 3/15\n",
      "1875/1875 [==============================] - 3s 2ms/step - loss: 9.9383e-04 - accuracy: 0.9946 - val_loss: 0.0036 - val_accuracy: 0.9824\n",
      "Epoch 4/15\n",
      "1875/1875 [==============================] - 4s 2ms/step - loss: 9.6458e-04 - accuracy: 0.9948 - val_loss: 0.0037 - val_accuracy: 0.9819\n",
      "Epoch 5/15\n",
      "1875/1875 [==============================] - 4s 2ms/step - loss: 9.6356e-04 - accuracy: 0.9948 - val_loss: 0.0038 - val_accuracy: 0.9815\n",
      "Epoch 6/15\n",
      "1875/1875 [==============================] - 3s 2ms/step - loss: 9.2324e-04 - accuracy: 0.9952 - val_loss: 0.0037 - val_accuracy: 0.9816\n",
      "Epoch 7/15\n",
      "1875/1875 [==============================] - 4s 2ms/step - loss: 8.3173e-04 - accuracy: 0.9953 - val_loss: 0.0038 - val_accuracy: 0.9802\n",
      "Epoch 8/15\n",
      "1875/1875 [==============================] - 4s 2ms/step - loss: 8.6156e-04 - accuracy: 0.9955 - val_loss: 0.0038 - val_accuracy: 0.9805\n",
      "Epoch 9/15\n",
      "1875/1875 [==============================] - 5s 3ms/step - loss: 7.7653e-04 - accuracy: 0.9956 - val_loss: 0.0037 - val_accuracy: 0.9807\n",
      "Epoch 10/15\n",
      "1875/1875 [==============================] - 5s 3ms/step - loss: 7.5337e-04 - accuracy: 0.9958 - val_loss: 0.0039 - val_accuracy: 0.9811\n",
      "Epoch 11/15\n",
      "1875/1875 [==============================] - 4s 2ms/step - loss: 7.7205e-04 - accuracy: 0.9957 - val_loss: 0.0040 - val_accuracy: 0.9798\n",
      "Epoch 12/15\n",
      "1875/1875 [==============================] - 4s 2ms/step - loss: 7.2513e-04 - accuracy: 0.9958 - val_loss: 0.0039 - val_accuracy: 0.9809\n",
      "Epoch 13/15\n",
      "1875/1875 [==============================] - 4s 2ms/step - loss: 6.9777e-04 - accuracy: 0.9959 - val_loss: 0.0040 - val_accuracy: 0.9804\n",
      "Epoch 14/15\n",
      "1875/1875 [==============================] - 4s 2ms/step - loss: 7.2939e-04 - accuracy: 0.9958 - val_loss: 0.0039 - val_accuracy: 0.9808\n",
      "Epoch 15/15\n",
      "1875/1875 [==============================] - 4s 2ms/step - loss: 6.4580e-04 - accuracy: 0.9960 - val_loss: 0.0038 - val_accuracy: 0.9807\n",
      "Epoch 1/15\n",
      "1875/1875 [==============================] - 4s 2ms/step - loss: 0.0015 - accuracy: 0.9916 - val_loss: 0.0042 - val_accuracy: 0.9789\n",
      "Epoch 2/15\n",
      "1875/1875 [==============================] - 4s 2ms/step - loss: 0.0014 - accuracy: 0.9921 - val_loss: 0.0041 - val_accuracy: 0.9792\n",
      "Epoch 3/15\n",
      "1875/1875 [==============================] - 4s 2ms/step - loss: 0.0014 - accuracy: 0.9922 - val_loss: 0.0041 - val_accuracy: 0.9801\n",
      "Epoch 4/15\n",
      "1875/1875 [==============================] - 4s 2ms/step - loss: 0.0013 - accuracy: 0.9925 - val_loss: 0.0042 - val_accuracy: 0.9805\n",
      "Epoch 5/15\n",
      "1875/1875 [==============================] - 4s 2ms/step - loss: 0.0012 - accuracy: 0.9929 - val_loss: 0.0043 - val_accuracy: 0.9779\n",
      "Epoch 6/15\n",
      "1875/1875 [==============================] - 4s 2ms/step - loss: 0.0012 - accuracy: 0.9931 - val_loss: 0.0039 - val_accuracy: 0.9806\n",
      "Epoch 7/15\n",
      "1875/1875 [==============================] - 4s 2ms/step - loss: 0.0011 - accuracy: 0.9935 - val_loss: 0.0046 - val_accuracy: 0.9783\n",
      "Epoch 8/15\n",
      "1875/1875 [==============================] - 4s 2ms/step - loss: 0.0011 - accuracy: 0.9937 - val_loss: 0.0040 - val_accuracy: 0.9805\n",
      "Epoch 9/15\n",
      "1875/1875 [==============================] - 4s 2ms/step - loss: 0.0010 - accuracy: 0.9937 - val_loss: 0.0042 - val_accuracy: 0.9797\n",
      "Epoch 10/15\n",
      "1875/1875 [==============================] - 3s 2ms/step - loss: 9.8903e-04 - accuracy: 0.9938 - val_loss: 0.0043 - val_accuracy: 0.9801\n",
      "Epoch 11/15\n",
      "1875/1875 [==============================] - 4s 2ms/step - loss: 9.4412e-04 - accuracy: 0.9942 - val_loss: 0.0042 - val_accuracy: 0.9803\n",
      "Epoch 12/15\n",
      "1875/1875 [==============================] - 4s 2ms/step - loss: 9.0136e-04 - accuracy: 0.9943 - val_loss: 0.0044 - val_accuracy: 0.9799\n",
      "Epoch 13/15\n",
      "1875/1875 [==============================] - 4s 2ms/step - loss: 8.6977e-04 - accuracy: 0.9944 - val_loss: 0.0041 - val_accuracy: 0.9805\n",
      "Epoch 14/15\n",
      "1875/1875 [==============================] - 4s 2ms/step - loss: 8.5663e-04 - accuracy: 0.9944 - val_loss: 0.0042 - val_accuracy: 0.9808\n",
      "Epoch 15/15\n",
      "1875/1875 [==============================] - 5s 2ms/step - loss: 8.0866e-04 - accuracy: 0.9946 - val_loss: 0.0040 - val_accuracy: 0.9811\n",
      "Epoch 1/15\n",
      "1875/1875 [==============================] - 4s 2ms/step - loss: 0.0270 - accuracy: 0.8741 - val_loss: 0.0258 - val_accuracy: 0.8849\n",
      "Epoch 2/15\n",
      "1875/1875 [==============================] - 3s 2ms/step - loss: 0.0263 - accuracy: 0.8766 - val_loss: 0.0251 - val_accuracy: 0.8867\n",
      "Epoch 3/15\n",
      "1875/1875 [==============================] - 3s 2ms/step - loss: 0.0256 - accuracy: 0.8787 - val_loss: 0.0244 - val_accuracy: 0.8886\n",
      "Epoch 4/15\n",
      "1875/1875 [==============================] - 3s 2ms/step - loss: 0.0250 - accuracy: 0.8807 - val_loss: 0.0239 - val_accuracy: 0.8906\n",
      "Epoch 5/15\n",
      "1875/1875 [==============================] - 3s 2ms/step - loss: 0.0245 - accuracy: 0.8830 - val_loss: 0.0234 - val_accuracy: 0.8922\n",
      "Epoch 6/15\n",
      "1875/1875 [==============================] - 3s 2ms/step - loss: 0.0240 - accuracy: 0.8848 - val_loss: 0.0229 - val_accuracy: 0.8940\n",
      "Epoch 7/15\n",
      "1875/1875 [==============================] - 3s 2ms/step - loss: 0.0235 - accuracy: 0.8866 - val_loss: 0.0224 - val_accuracy: 0.8952\n",
      "Epoch 8/15\n",
      "1875/1875 [==============================] - 3s 2ms/step - loss: 0.0231 - accuracy: 0.8882 - val_loss: 0.0220 - val_accuracy: 0.8978\n",
      "Epoch 9/15\n",
      "1875/1875 [==============================] - 3s 2ms/step - loss: 0.0227 - accuracy: 0.8895 - val_loss: 0.0217 - val_accuracy: 0.8986\n",
      "Epoch 10/15\n",
      "1875/1875 [==============================] - 3s 2ms/step - loss: 0.0223 - accuracy: 0.8912 - val_loss: 0.0213 - val_accuracy: 0.8995\n",
      "Epoch 11/15\n",
      "1875/1875 [==============================] - 3s 2ms/step - loss: 0.0220 - accuracy: 0.8924 - val_loss: 0.0210 - val_accuracy: 0.8997\n",
      "Epoch 12/15\n",
      "1875/1875 [==============================] - 3s 2ms/step - loss: 0.0217 - accuracy: 0.8933 - val_loss: 0.0207 - val_accuracy: 0.9014\n",
      "Epoch 13/15\n",
      "1875/1875 [==============================] - 3s 2ms/step - loss: 0.0214 - accuracy: 0.8944 - val_loss: 0.0204 - val_accuracy: 0.9028\n",
      "Epoch 14/15\n",
      "1875/1875 [==============================] - 3s 2ms/step - loss: 0.0211 - accuracy: 0.8955 - val_loss: 0.0201 - val_accuracy: 0.9039\n",
      "Epoch 15/15\n",
      "1875/1875 [==============================] - 3s 2ms/step - loss: 0.0208 - accuracy: 0.8965 - val_loss: 0.0198 - val_accuracy: 0.9044\n"
     ]
    }
   ],
   "source": [
    "_train_labels = keras.utils.to_categorical(train_labels, 10)\n",
    "_test_labels = keras.utils.to_categorical(test_labels, 10)\n",
    "\n",
    "#15 Epochen lang werden nun die einzelnen Modelle trainiert\n",
    "epochs=15\n",
    "history = [model.fit(train_images, _train_labels, epochs=epochs, validation_data=(test_images, _test_labels), verbose=True) for model in models] "
   ]
  },
  {
   "cell_type": "markdown",
   "metadata": {},
   "source": [
    "#### Vergleich der Genaugkaiten der verschiedenen Optimizer\n",
    "\n",
    "Das Ergebnis des Lernens plotten wir nun auf einen Graphen."
   ]
  },
  {
   "cell_type": "code",
   "execution_count": 7,
   "metadata": {},
   "outputs": [
    {
     "data": {
      "text/plain": [
       "<module 'matplotlib.pyplot' from 'c:\\\\Users\\\\paulg\\\\AppData\\\\Local\\\\Programs\\\\Python\\\\Python310\\\\lib\\\\site-packages\\\\matplotlib\\\\pyplot.py'>"
      ]
     },
     "execution_count": 7,
     "metadata": {},
     "output_type": "execute_result"
    },
    {
     "data": {
      "image/png": "[encoded data removed]",
      "text/plain": [
       "<Figure size 640x480 with 1 Axes>"
      ]
     },
     "metadata": {},
     "output_type": "display_data"
    }
   ],
   "source": [
    "def plot_learning_curve(ylim=0.6):\n",
    "    plt.figure()\n",
    "    plt.title(\"accuracy comparison\")\n",
    "    axes = plt.gca()\n",
    "    axes.set_ylim([ylim, 1])\n",
    "    plt.xlabel(\"Epoch\")\n",
    "    plt.ylabel(\"Accuracy\")\n",
    "    train_sizes = np.arange(1, 1 + len(history[0].history['accuracy']))\n",
    "\n",
    "    plt.grid()\n",
    "\n",
    "    plt.plot(\n",
    "        train_sizes,\n",
    "        history[0].history['accuracy'],\n",
    "        'o-',\n",
    "        color=(177/255, 6/255, 58/255),\n",
    "        label=\"Adam\"\n",
    "    )\n",
    "    plt.plot(\n",
    "        train_sizes,\n",
    "        history[1].history['accuracy'],\n",
    "        'o-',\n",
    "        color=(246/255, 168/255, 0),\n",
    "        label=\"RmsProp\"\n",
    "    )\n",
    "    \n",
    "    plt.plot(\n",
    "        train_sizes,\n",
    "        history[2].history['accuracy'],\n",
    "        'o-',\n",
    "        color='green',\n",
    "        label=\"Sgd\"\n",
    "    )\n",
    "\n",
    "    plt.legend(loc=\"best\")\n",
    "    return plt\n",
    "\n",
    "plot_learning_curve()"
   ]
  },
  {
   "cell_type": "markdown",
   "metadata": {},
   "source": [
    "### Gradient Descent\n",
    "\n",
    "Durch seine Einfachheit ist der Gradient Descent der meistebenutzte Optimizer. Vor allem findet er Anwendung bei Problemen mit Linearer Regression oder Klassifikation.\n",
    "Für Backpropagation in Neuronalen Netzen wird ebenfalls Gradient Descent verwendet.  \n",
    "\n",
    "\"Unter Gradient Descent versteht man einen Optimierungsalgorithmus, der das Minimum einer Funktion findet, indem er sich schrittweise in Richtung des stärksten Gefälles bewegt. Dies kann man sich anschaulich wie eine blinde Person vorstellen, die auf einem Berg steht, und einen im Tal gelegenen See erreichen möchte\"\n",
    "\n",
    "In der Praxis in unserem Besipiel würden wir zu Beginn einfach eine zufällige Position in unserer Kostenfunktion als Startposition festlegen und würden dann nach dem stärksten Gefälle suchen. Bei einer  Funktion mit zwei inputs, kann man das gut nachvollziehen. Wir würden einfach schauen, ob die Steigung m in y = mx + b negativ ist oder positiv. Ist die Steigung positiv bewegen wir uns nach links und wenn Sie negativ ist umgekehrt. Wir bewegen uns in der Schrittweite unserer Learning Rate. An der neuen Position, wiederholen wir das Ganze mit der Anzahl an Epochen die wir angegeben haben.\n",
    "Am Ende des Verlaufs sollten wir in einem Minimum landen, wobei das je nach Epochenanzahl, Learning Rate und Kostenfunktion nicht zwingend ist, aber auf jeden Fall erwünscht. Im Bild ist ein einfaches Beispiel zu sehen. \n",
    "\n",
    "<img src=\"https://1.cms.s81c.com/sites/default/files/2021-01-06/ICLH_Diagram_Batch_01_04-GradientDescent-WHITEBG_0.png\" alt=\"Einfaches Beispiel Gradient Descent\" width=\"400px\" />\n",
    "\n",
    "\n",
    "\n",
    "**Zu beachten:** \n",
    "Es ist nicht schwer ein Minimum mit dem Gradient Descent Verfahren zu finden, jedoch muss man beachten, dass nciht immer das globale Minimum gefunden wird, sondern je nach Startposition man in einem lokalen Minimum landet und dieses nicht immer die Resultate liefert, welche man sich wünscht. Das kann man umgehen, wenn man theoretisch n-viele verschiedene Startpositionen hat. Dann wird sich mit Sicherheit irgendwann eine Startposition finden, bei welcher das globale Minimum erreicht werden kann. Jedoch ist dieser Prozess sehr zeitaufwendig bei komplexen Problemen \n",
    "\n",
    "**Vorteile:**\n",
    "- Einfach auszurechnen\n",
    "- Einfach anzuwenden\n",
    "- Einfach zu verstehen\n",
    "- Gut für kleine Datensätze\n",
    "\n",
    "**Nachteile:**\n",
    "- Kann im lokalen Minimum stecken bleiben\n",
    "- Die Gewichte werden nach jedem Durchlauf im gesamten Datenset angepasst, das kann bei großen Datensets zu einer großen zeitlichen Aufwand führen.\n",
    "- Benötigt viel Speicher um den Gradienten auf dem gesamten Datenset zu errechnen. Das fällt wieder bei großen Datensets ins Gewicht. \n",
    "\n",
    "Es gibt drei Arten von Gradient Descent Verfahren, welche wir uns nun genauer ansehen.\n"
   ]
  },
  {
   "cell_type": "markdown",
   "metadata": {},
   "source": [
    "#### Batch Gradient Descent\n",
    "\n",
    "Beim Batch Gradient Descent gehen wir durch alle Datensätze im Datensatz und berechnen am Ende der Epoche die Gesamtkosten. Die Gesamtkosten ergeben sich aus der Summe von den Kosten für jeden Datensatz. Das schauen wir uns genauer an einem Beispiel mit Hauspreisen an.\n",
    "\n",
    "<table>\n",
    "  <tr>\n",
    "    <th>area</th>\n",
    "    <th>bedrooms</th>\n",
    "    <th>price</th>\n",
    "  </tr>\n",
    "  <tr>\n",
    "    <td>2600</td>\n",
    "    <td>3</td>\n",
    "    <td>550000</td>\n",
    "  </tr>\n",
    "  <tr>\n",
    "    <td>3000 </td>\n",
    "    <td>4</td>\n",
    "    <td>565000</td>\n",
    "  </tr>\n",
    "  <tr>\n",
    "    <td>3200</td>\n",
    "    <td>3</td>\n",
    "    <td>610000</td>\n",
    "  </tr>\n",
    "  <tr>\n",
    "    <td>3600</td>\n",
    "    <td>3</td>\n",
    "    <td>595000</td>\n",
    "  </tr>\n",
    "  <tr>\n",
    "    <td>4000</td>\n",
    "    <td>5</td>\n",
    "    <td>760000</td>\n",
    "  </tr>\n",
    "  <tr>\n",
    "    <td>4100</td>\n",
    "    <td>6</td>\n",
    "    <td>810000</td>\n",
    "  </tr>\n",
    "</table>\n",
    "\n",
    "Im Bild zu sehen ist ein Datensatz mit 3 Spalten (Fläche, Schlafzimmer und Preis) und mit 6 Datensätzen. Unser Ziel ist es den Preis vorherzusagen. Dafür haben wir folgende Formel:\n",
    "$$ \\hat{p} \\ ist \\ der \\ vorhergesagte\\ Preis $$\n",
    "$$ p \\ ist \\ der \\ tatsächliche\\ Preis $$\n",
    "$$w1, \\ w2 \\ sind \\ die \\ Gewichte $$\n",
    "$$b \\ ist \\ der \\ Bias $$\n",
    "$$f \\ ist \\ die \\ Fläche $$ \n",
    "$$s \\ ist \\ die \\ Anzahl \\ an \\ Schlafzimmern $$\n",
    "$$\\hat{p} = w1 * f + w2 * s + b$$\n",
    "\n",
    "In unserem Beispiel bestimmen wir einfach $$w1,w2,b = 1$$\n",
    "und rechnen nun für alle Datensätze die vorhergesagten Preise aus:\n",
    "$$\\hat{p1} = 1 * 2600 + 1 * 3 + 1 = 2604$$ \n",
    "$$\\hat{p2} = 1 * 3000 + 1 * 4 + 1 = 3005$$\n",
    "Das System ist nicht schwer zu erkennen, daher hören wir mit der Kalkulation an der Stelle auf, aber normalerweise würden wir das für alle Datensätze im Datensatz machen.\n",
    "Parallel zum errechnen der Preise erechnen wir für jeden einzelnen Datensatz die Kosten. Das erfolgt mit dieser Formel:\n",
    "$$k \\ sind \\ die\\ Kosten$$\n",
    "$$k = (p1 - \\hat{p1})^2$$\n",
    "\n",
    "Nun können wir mit der Formel die Kosten berechnen.\n",
    "\n",
    "$$k1 = (550000 - 2604)^2$$\n",
    "$$k2 = (565000 - 3005)^2$$\n",
    "\n",
    "Das machen wir für alle Datensätze. Wenn das Geschehen ist, sind wir am Ende der 1. Epoche. Als letzten Schritt ziehen wir die Summe von allen Kosten. \n",
    "\n",
    "$$Gesamtkosten = \\sum_{i=1}^{6}ki$$\n",
    "$$mse\\ ist \\ Mean Sqaured Error$$\n",
    "$$mse = \\frac{Gesamtkosten}{Menge\\ an\\ Datensätzen\\ (6)}$$\n",
    "\n",
    "Bevor wir mit der nächsten Epochen starten, passen wir die Gewichte an.\n",
    "\n",
    "$$w1 = w1 - learning rate * \\frac{\\partial{(mse)}}{\\partial{w1}}$$\n",
    "\n",
    "$$b = b - learning rate * \\frac{\\partial{(mse)}}{\\partial{b}}$$\n",
    "\n",
    "$$w1 = 1 - (-50) = 51$$\n",
    "\n",
    "$$w1 = 1 - (-8) = 9$$\n",
    "\n",
    "$$b = 1 - (-20000) = 20001$$\n",
    "\n",
    "$$\\hat{p1} = 51 * 2600 + 9 * 3 + 20001 = 152610$$ \n",
    "\n",
    "Wir sehen, dass unser vorhergesagter Preis dem tatsächlchen Preis schon näher kommt und unsere Kosten auf jeden Fall kleiner sein werden in der zweiten Epochen. Wir führen das ganze so oft durch bis die ein Minimum der Kostenfunktion erreicht wird. In unserem Beispiel hörne wir an der Stelle auf, da es uns wichtig war das Konzept zu übermitteln und nicht es von vorne bis hinten einmal durchzuspielen.\n",
    "\n",
    "$$wi = wi - learning rate * \\frac{\\partial{(mse)}}{\\partial{wi}}$$\n",
    "\n",
    "Diese Formel wenden wir für alle Gewichte an. Auf die partielle Ableitung werden wir an diesem Punkt nicht vertieft eingehen, wir verweisen auf die Quellen, in welchen Unterlagen zu den Partial Derratives (partielle Ableitung auf enlisch) gegeben sind. Um kurz auf Derratives einzugehen, Sie sind sehr ähnlich zur Steigung und werden bei exponentiellen Funktionen größer 1 verwendet. Das heißt bei allen Funktionen die nicht linear oder konstant verlaufen. Zum Beispiel eine quadratische Funktion. Die Ableitung der Funktion $$x^2\\ ist\\ 2x$$"
   ]
  },
  {
   "cell_type": "markdown",
   "metadata": {},
   "source": [
    "#### Stochastic Gradient Descent\n",
    "\n",
    "Bei Stochastic Gradient Descent wählen wir ein zufälliges Gewicht, rechnen die Kosten für dieses Gewicht aus und passen danach mit den Kosten alle Gewichte und den Bias an. Damit ist eine Epoche beendet und wir wiederholen diesen Prozess.\n",
    "\n",
    "**Zu beachten:** \n",
    "Kann manchmal mehr Epochen zum konvergieren brauchen als andere Optimizer, da das Gewicht welches zum optimieren verwendet wird, per Zufall gewählt wird. \n",
    "\n",
    "**Vorteile:**\n",
    "- Gut bei großen Datensätzen, wenn wir nicht zu viel rechnen möchten.\n",
    "- Konvergiert schneller, da die Model Parameter öfter angepasst werden.\n",
    "- Braucht weniger Speicher, da wir die Werte von der Kostenfunktion nicht speichern müssen\n",
    "- Kann neue Minimas finden\n",
    "\n",
    "**Nachteile:**\n",
    "- Kann nach Erreichen des gloabeln Minimums wieder rauskommen, da es per Zufall den nächsten Referenzwert wählt.\n",
    "- Hohe Varianz in den Model Parametern\n",
    "- Um die selbe Konvergenz wie Batch Gradient Descent zu bekommen, müssen wir langsam mit der Zeit die Learning Rate verringern"
   ]
  },
  {
   "cell_type": "markdown",
   "metadata": {},
   "source": [
    "#### Mini-Batch Gradient Descent\n",
    "\n",
    "Mini-Batch Gradient Descent ist ähnlich zu Stochastic Gradient Descent, statt ein zufälligen Datensatz zu wählen, wählen wir ein zufälliges Bündel an Datensätzen, auf welchem wir das Batch Gradient Descent Verfahren anwenden. \n",
    "\n",
    "Beispiel: WIr haben ein Datensatz mit 20 Datensätzen, dann könnten wir zum Beispiel ein Bündel von 5 Datensätzen wählen und dafür den Feedforward durchführen und die Gesamtkosten berechnen. Das ist dann unsere Epoche, wir passen die Gewichte an und danach wählen wir zufällig die nächsten 5 Datensätze. \n",
    "\n",
    "**Vorteile:**\n",
    "- Updated regelmäßig die Model Parameter und hat weniger Varianz.\n",
    "- Braucht moderate Speicherkapazität\n",
    "\n",
    "**Zusammenfassend können wir sagen, dass alle Gradient Descent Verfahren Ihre Herausforderungen haben:**\n",
    "\n",
    "Die optimale Learning Rate wählen. Wenn die Learning Rate zu klein ist, braucht das Model zu lange zum konvergieren. <br>\n",
    "Das manche Parameter dauerhaft konstant bleiben, wir würden Sie aber lieber anpassen. <br>\n",
    "Es kann Parameter geben die wir nicht im selben Rythmus verändern wollen wie andere. <br>\n",
    "Kann im lokalen Minmum stecken bleiben.\n",
    "\n",
    "<img src=\"https://1.cms.s81c.com/sites/default/files/2020-10-27/Local%20Minimum_SaddlePoints.jpg\" alt=\"Mögliche Probleme in der Konvergenz von Gradient Descent\" width=\"400px\" />\n"
   ]
  },
  {
   "cell_type": "markdown",
   "metadata": {},
   "source": [
    "#### Coding Beispiel Gradient Descent mit sklearn\n",
    "\n",
    "wir importieren unsere selbsterstellte csv-Datei mit Pandas und schauen uns diese einmal an. Unser Dataframe besteht aus drei Spalten und 14 Zeilen."
   ]
  },
  {
   "cell_type": "code",
   "execution_count": 4,
   "metadata": {},
   "outputs": [
    {
     "data": {
      "text/html": [
       "<div>\n",
       "<style scoped>\n",
       "    .dataframe tbody tr th:only-of-type {\n",
       "        vertical-align: middle;\n",
       "    }\n",
       "\n",
       "    .dataframe tbody tr th {\n",
       "        vertical-align: top;\n",
       "    }\n",
       "\n",
       "    .dataframe thead th {\n",
       "        text-align: right;\n",
       "    }\n",
       "</style>\n",
       "<table border=\"1\" class=\"dataframe\">\n",
       "  <thead>\n",
       "    <tr style=\"text-align: right;\">\n",
       "      <th></th>\n",
       "      <th>area</th>\n",
       "      <th>bedrooms</th>\n",
       "      <th>price</th>\n",
       "    </tr>\n",
       "  </thead>\n",
       "  <tbody>\n",
       "    <tr>\n",
       "      <th>0</th>\n",
       "      <td>200</td>\n",
       "      <td>3</td>\n",
       "      <td>550000</td>\n",
       "    </tr>\n",
       "    <tr>\n",
       "      <th>1</th>\n",
       "      <td>300</td>\n",
       "      <td>4</td>\n",
       "      <td>680000</td>\n",
       "    </tr>\n",
       "    <tr>\n",
       "      <th>2</th>\n",
       "      <td>100</td>\n",
       "      <td>2</td>\n",
       "      <td>400000</td>\n",
       "    </tr>\n",
       "    <tr>\n",
       "      <th>3</th>\n",
       "      <td>200</td>\n",
       "      <td>5</td>\n",
       "      <td>500000</td>\n",
       "    </tr>\n",
       "    <tr>\n",
       "      <th>4</th>\n",
       "      <td>400</td>\n",
       "      <td>2</td>\n",
       "      <td>650000</td>\n",
       "    </tr>\n",
       "    <tr>\n",
       "      <th>5</th>\n",
       "      <td>200</td>\n",
       "      <td>2</td>\n",
       "      <td>480000</td>\n",
       "    </tr>\n",
       "    <tr>\n",
       "      <th>6</th>\n",
       "      <td>250</td>\n",
       "      <td>5</td>\n",
       "      <td>600000</td>\n",
       "    </tr>\n",
       "    <tr>\n",
       "      <th>7</th>\n",
       "      <td>100</td>\n",
       "      <td>2</td>\n",
       "      <td>450000</td>\n",
       "    </tr>\n",
       "    <tr>\n",
       "      <th>8</th>\n",
       "      <td>600</td>\n",
       "      <td>7</td>\n",
       "      <td>800000</td>\n",
       "    </tr>\n",
       "    <tr>\n",
       "      <th>9</th>\n",
       "      <td>550</td>\n",
       "      <td>5</td>\n",
       "      <td>725000</td>\n",
       "    </tr>\n",
       "    <tr>\n",
       "      <th>10</th>\n",
       "      <td>300</td>\n",
       "      <td>3</td>\n",
       "      <td>625000</td>\n",
       "    </tr>\n",
       "    <tr>\n",
       "      <th>11</th>\n",
       "      <td>400</td>\n",
       "      <td>6</td>\n",
       "      <td>780000</td>\n",
       "    </tr>\n",
       "    <tr>\n",
       "      <th>12</th>\n",
       "      <td>280</td>\n",
       "      <td>2</td>\n",
       "      <td>450000</td>\n",
       "    </tr>\n",
       "    <tr>\n",
       "      <th>13</th>\n",
       "      <td>50</td>\n",
       "      <td>1</td>\n",
       "      <td>200000</td>\n",
       "    </tr>\n",
       "  </tbody>\n",
       "</table>\n",
       "</div>"
      ],
      "text/plain": [
       "    area  bedrooms   price\n",
       "0    200         3  550000\n",
       "1    300         4  680000\n",
       "2    100         2  400000\n",
       "3    200         5  500000\n",
       "4    400         2  650000\n",
       "5    200         2  480000\n",
       "6    250         5  600000\n",
       "7    100         2  450000\n",
       "8    600         7  800000\n",
       "9    550         5  725000\n",
       "10   300         3  625000\n",
       "11   400         6  780000\n",
       "12   280         2  450000\n",
       "13    50         1  200000"
      ]
     },
     "execution_count": 4,
     "metadata": {},
     "output_type": "execute_result"
    }
   ],
   "source": [
    "import pandas as pd \n",
    "df_housing = pd.read_csv('housing_prices.csv')\n",
    "df_housing"
   ]
  },
  {
   "cell_type": "markdown",
   "metadata": {},
   "source": [
    "Als nächstes importieren wir sklearn und betreiben preprocessing auf dem Datensatz, dadurch werden alle Datensätze zwischen 0 und 1 skaliert. Wobei 0 der kleinste Wert des Datensatzes ist und 1 der größte. Wenn wir uns unser Dataframe anschauen dann haben wir immer bei Index 8 unseren größten Datensatz und bei Index 13 unseren kleinsten Datensatz. Wir werfen die Spalte 'price' aus dem df (Dataframe) damit wir nur unsere x Werte haben."
   ]
  },
  {
   "cell_type": "code",
   "execution_count": 5,
   "metadata": {},
   "outputs": [
    {
     "data": {
      "text/plain": [
       "array([[0.27272727, 0.33333333],\n",
       "       [0.45454545, 0.5       ],\n",
       "       [0.09090909, 0.16666667],\n",
       "       [0.27272727, 0.66666667],\n",
       "       [0.63636364, 0.16666667],\n",
       "       [0.27272727, 0.16666667],\n",
       "       [0.36363636, 0.66666667],\n",
       "       [0.09090909, 0.16666667],\n",
       "       [1.        , 1.        ],\n",
       "       [0.90909091, 0.66666667],\n",
       "       [0.45454545, 0.33333333],\n",
       "       [0.63636364, 0.83333333],\n",
       "       [0.41818182, 0.16666667],\n",
       "       [0.        , 0.        ]])"
      ]
     },
     "execution_count": 5,
     "metadata": {},
     "output_type": "execute_result"
    }
   ],
   "source": [
    "from sklearn import preprocessing\n",
    "import matplotlib.pyplot as plt\n",
    "\n",
    "sx = preprocessing.MinMaxScaler()\n",
    "sy = preprocessing.MinMaxScaler()\n",
    "\n",
    "scaled_X = sx.fit_transform(df_housing.drop('price',axis='columns'))\n",
    "scaled_X  # sclaed_X besteht nun aus den zwei Spalten area und bedrooms und ist skaliert"
   ]
  },
  {
   "cell_type": "code",
   "execution_count": 6,
   "metadata": {},
   "outputs": [
    {
     "data": {
      "text/plain": [
       "array([[0.58333333],\n",
       "       [0.8       ],\n",
       "       [0.33333333],\n",
       "       [0.5       ],\n",
       "       [0.75      ],\n",
       "       [0.46666667],\n",
       "       [0.66666667],\n",
       "       [0.41666667],\n",
       "       [1.        ],\n",
       "       [0.875     ],\n",
       "       [0.70833333],\n",
       "       [0.96666667],\n",
       "       [0.41666667],\n",
       "       [0.        ]])"
      ]
     },
     "execution_count": 6,
     "metadata": {},
     "output_type": "execute_result"
    }
   ],
   "source": [
    "scaled_y = sy.fit_transform(df_housing['price'].values.reshape(df_housing.shape[0],1))\n",
    "scaled_y"
   ]
  },
  {
   "cell_type": "markdown",
   "metadata": {},
   "source": [
    "Nun sind unsere Dataframes für x und y so angepasst, damit wir damit arbeiten können. Als nächsten Schritt implementieren wir eine Funktion für den Batch Gradient Descent. "
   ]
  },
  {
   "cell_type": "code",
   "execution_count": 39,
   "metadata": {},
   "outputs": [
    {
     "name": "stdout",
     "output_type": "stream",
     "text": [
      "Epoch: 0, Weights: [0.99657554 0.99639105], Bias: -0.004603896103896102, Cost: 0.15450126262626254\n",
      "Epoch: 50, Weights: [0.88808603 0.87879232], Bias: -0.10757744909845124, Cost: 0.0693104390033905\n",
      "Epoch: 100, Weights: [0.83503757 0.81698297], Bias: -0.10494193855931723, Cost: 0.05522885717119274\n",
      "Epoch: 150, Weights: [0.79830448 0.7718876 ], Bias: -0.07923795124766368, Cost: 0.04706495473383574\n",
      "Epoch: 200, Weights: [0.76805309 0.73366181], Bias: -0.05036092250994574, Cost: 0.040616279530338306\n",
      "Epoch: 250, Weights: [0.74163244 0.69963109], Bias: -0.022929357800431028, Cost: 0.035378119917097314\n",
      "Epoch: 300, Weights: [0.7181707 0.6688988], Bias: 0.002146442331722147, Cost: 0.031113793872064848\n",
      "Epoch: 350, Weights: [0.69725273 0.64102636], Bias: 0.02484065224121092, Cost: 0.027641144681393722\n",
      "Epoch: 400, Weights: [0.67859488 0.61570856], Bias: 0.045324226308928746, Cost: 0.02481261166105806\n",
      "Epoch: 450, Weights: [0.66196359 0.59269214], Bias: 0.06379879772861098, Cost: 0.022508193587355695\n",
      "Die Gewichte w1 und w2: [0.64743329 0.57215366], der Bias b: 0.08014124621790815, die Kosten: 0.02066419129335206\n"
     ]
    }
   ],
   "source": [
    "import numpy as np\n",
    "def batch_gradient_descent(X, y_true, epochs, learning_rate = 0.01):\n",
    "\n",
    "    number_of_features = X.shape[1] # Das gibt uns die Anzahl an Features zurück in unserem\n",
    "    #Beispiel sind es zwei (area,bedrooms) daher ist number_of_features = 2\n",
    "    \n",
    "    w = np.ones(shape=(number_of_features)) # Nun brauchen wir einfach Startgewichte, diese können\n",
    "    # zufällig gewählt sein. In unserem Beispiel nehmen wir die 1 als w1 und w2\n",
    "    b = 0  # bias fängt bei uns bei 0 an da können wir, aber auch nehmen was wir wollen.\n",
    "    total_samples = X.shape[0] # Anzahl an Reihen in X\n",
    "    \n",
    "    cost_list = []\n",
    "    epoch_list = []\n",
    "    \n",
    "    for i in range(epochs):     \n",
    "        y_predicted = np.dot(w, X.T) + b # y = w1 * area + w2 * bedrooms + bias\n",
    "        # X.T taucht Spalten in Reihen bedeutet wenn wir \n",
    "        '''\n",
    "        e = example_list\n",
    "        vorher e     naher e.T\n",
    "                    [[1,4],\n",
    "        [[1, 2,     [2,4],\n",
    "        2, 2,       [2,5],\n",
    "        3, 3],      [2,5],\n",
    "        [4, 4,      [3,6],\n",
    "        5, 5,       [3,6]]\n",
    "        6, 6]]      \n",
    "        '''\n",
    "        w_grad = -(2/total_samples)*(X.T.dot(y_true-y_predicted)) \n",
    "        b_grad = -(2/total_samples)*np.sum(y_true-y_predicted)\n",
    "        \n",
    "        w = w - learning_rate * w_grad # Anpassung der Gewichte\n",
    "        b = b - learning_rate * b_grad # Anpassung vom Bias \n",
    "        # Formel ist oben beim Batch Gradient Descent nochmal erklärt\n",
    "        \n",
    "        cost = np.mean(np.square(y_true-y_predicted)) # MSE (Mean Squared Error)\n",
    "        # Bei jeder 10. Epoche fügen wir die Kosten und die Epoche den jeweiligen Listen hinzu\n",
    "        if i%50==0:\n",
    "            print(f\"Epoch: {i}, Weights: {w}, Bias: {b}, Cost: {cost}\")\n",
    "            cost_list.append(cost)\n",
    "            epoch_list.append(i)\n",
    "        \n",
    "    return w, b, cost, cost_list, epoch_list\n",
    "\n",
    "# Wir weisen den Output der Funktion den fünf unten angezeigten w,b,cost.. Variablen zu.\n",
    "w, b, cost, cost_list, epoch_list = batch_gradient_descent(scaled_X,scaled_y.reshape(scaled_y.shape[0],),500)\n",
    "print(f'Die Gewichte w1 und w2: {w}, der Bias b: {b}, die Kosten: {cost}')"
   ]
  },
  {
   "cell_type": "markdown",
   "metadata": {},
   "source": [
    "Jede 10. Epoche haben wir ausgegeben, damit wir uns die Ouputs bisschen genauer anschauen können. In der letzten Zeile ist unser Resultat nach 500 Epochen. Wir können gut sehen wie die Kosten mit steigender Epochenzahl sinken und die Gewichte und der Bias so angepasst wird, damit es bestmöglich zu den Daten passt. Nun plotten wir noch die Kosten abhängig von der Epochenzahl"
   ]
  },
  {
   "cell_type": "code",
   "execution_count": 17,
   "metadata": {},
   "outputs": [
    {
     "data": {
      "text/plain": [
       "[<matplotlib.lines.Line2D at 0x175c4b0bbe0>]"
      ]
     },
     "execution_count": 17,
     "metadata": {},
     "output_type": "execute_result"
    },
    {
     "data": {
      "image/png": "[encoded data removed]",
      "text/plain": [
       "<Figure size 640x480 with 1 Axes>"
      ]
     },
     "metadata": {},
     "output_type": "display_data"
    }
   ],
   "source": [
    "plt.xlabel(\"epoch\")\n",
    "plt.ylabel(\"cost\")\n",
    "plt.plot(epoch_list,cost_list)"
   ]
  },
  {
   "cell_type": "markdown",
   "metadata": {},
   "source": [
    "Was ist nun unser Mehrwert von unserem Model? Wir können zum Beispiel nun Vorhersagen tätigen. Dazu impementieren wir eine Funktion."
   ]
  },
  {
   "cell_type": "code",
   "execution_count": 42,
   "metadata": {},
   "outputs": [
    {
     "name": "stderr",
     "output_type": "stream",
     "text": [
      "c:\\Users\\paulg\\AppData\\Local\\Programs\\Python\\Python310\\lib\\site-packages\\sklearn\\base.py:450: UserWarning: X does not have valid feature names, but MinMaxScaler was fitted with feature names\n",
      "  warnings.warn(\n"
     ]
    },
    {
     "data": {
      "text/plain": [
       "525674.4730270626"
      ]
     },
     "execution_count": 42,
     "metadata": {},
     "output_type": "execute_result"
    }
   ],
   "source": [
    "def predict(area,bedrooms,w,b):\n",
    "    scaled_X = sx.transform([[area, bedrooms]])[0]\n",
    "    # hier w1 = w[0] , w2 = w[1] und bias ist b\n",
    "    # Gleichung für den Preis ist w1*area + w2*bedrooms + bias\n",
    "    # scaled_X[0] ist die Fläche\n",
    "    # scaled_X[1] sind die Schlafzimmer\n",
    "    scaled_price = w[0] * scaled_X[0] + w[1] * scaled_X[1] + b\n",
    "    # sobald wir die Schätzung des Preises bekommen müssen wir es zurück scalen, da der Ouput in Wert zwischen 0 uznd 1 ist. \n",
    "    # Daher sy.inverse_transform. Das List Inhdexing wird gebraucht, da der Ouput eine zwei dimensionalle Liste mit einem Value in der ersten Liste an erster Stelle hat.[0][0]\n",
    "    return sy.inverse_transform([[scaled_price]])[0][0]\n",
    "\n",
    "predict(200,4,w,b)"
   ]
  },
  {
   "cell_type": "code",
   "execution_count": 44,
   "metadata": {},
   "outputs": [
    {
     "name": "stderr",
     "output_type": "stream",
     "text": [
      "c:\\Users\\paulg\\AppData\\Local\\Programs\\Python\\Python310\\lib\\site-packages\\sklearn\\base.py:450: UserWarning: X does not have valid feature names, but MinMaxScaler was fitted with feature names\n",
      "  warnings.warn(\n"
     ]
    },
    {
     "data": {
      "text/plain": [
       "976276.4285353697"
      ]
     },
     "execution_count": 44,
     "metadata": {},
     "output_type": "execute_result"
    }
   ],
   "source": [
    "predict(1000,2,w,b)"
   ]
  },
  {
   "cell_type": "code",
   "execution_count": 46,
   "metadata": {},
   "outputs": [
    {
     "name": "stderr",
     "output_type": "stream",
     "text": [
      "c:\\Users\\paulg\\AppData\\Local\\Programs\\Python\\Python310\\lib\\site-packages\\sklearn\\base.py:450: UserWarning: X does not have valid feature names, but MinMaxScaler was fitted with feature names\n",
      "  warnings.warn(\n"
     ]
    },
    {
     "data": {
      "text/plain": [
       "481872.8278011883"
      ]
     },
     "execution_count": 46,
     "metadata": {},
     "output_type": "execute_result"
    }
   ],
   "source": [
    "predict(300,2,w,b)"
   ]
  },
  {
   "cell_type": "markdown",
   "metadata": {},
   "source": [
    "Dassselbe können wir nun auch für Stochastic Gradient Descent machen. Dazu implementieren erst einmal eine Funktion."
   ]
  },
  {
   "cell_type": "code",
   "execution_count": 74,
   "metadata": {},
   "outputs": [
    {
     "name": "stdout",
     "output_type": "stream",
     "text": [
      "Epoch: 0, Gewichte: [0.99989953 0.99995996], Bias: -0.00024025974025974008, Kosten: 0.0282851239669421\n",
      "Epoch: 10000, Gewichte: [0.59856555 0.49986206], Bias: 0.13864497918543328, Kosten: 0.01927746939554222\n",
      "Epoch: 20000, Gewichte: [0.54680631 0.38762119], Bias: 0.2101334118738257, Kosten: 0.0210781381974647\n",
      "Epoch: 30000, Gewichte: [0.5456287  0.35105867], Bias: 0.2276639191197257, Kosten: 0.01342235936574492\n",
      "Epoch: 40000, Gewichte: [0.56105847 0.33949188], Bias: 0.2298490863926534, Kosten: 0.009440429586545764\n",
      "Epoch: 50000, Gewichte: [0.57098328 0.32914983], Bias: 0.23079048525312415, Kosten: 0.00970760116446844\n",
      "Epoch: 60000, Gewichte: [0.57446977 0.3162039 ], Bias: 0.2299736817898741, Kosten: 0.011325923346318007\n",
      "Epoch: 70000, Gewichte: [0.5770861  0.31368936], Bias: 0.2380085405879184, Kosten: 0.056810264494889476\n",
      "Epoch: 80000, Gewichte: [0.58765092 0.31771205], Bias: 0.22999441511128058, Kosten: 0.018479679449992792\n",
      "Epoch: 90000, Gewichte: [0.58097528 0.31108064], Bias: 0.2279168060761999, Kosten: 0.007876769124251375\n",
      "Die Gewichte w1 und w2: [0.58235898 0.30559441], der Bias b: 0.2319467890800801, die Kosten: 0.012085338323854928\n"
     ]
    }
   ],
   "source": [
    "import random\n",
    "def stochastic_gradient_descent(X, y_true, epochs, learning_rate = 0.01):\n",
    " \n",
    "    number_of_features = X.shape[1]\n",
    "    # numpy array mit 1 Spalte und Zeilen gleich der Anzahl von Features. In \n",
    "    # unserem Fall number_of_features = 2 (area, bedrooms)\n",
    "    w = np.ones(shape=(number_of_features)) \n",
    "    b = 0\n",
    "    total_samples = X.shape[0]\n",
    "    \n",
    "    cost_list = []\n",
    "    epoch_list = []\n",
    "    \n",
    "    for i in range(epochs):    \n",
    "        random_index = random.randint(0,total_samples-1) # random index from total samples\n",
    "        sample_x = X[random_index]\n",
    "        sample_y = y_true[random_index]\n",
    "        \n",
    "        y_predicted = np.dot(w, sample_x.T) + b\n",
    "    \n",
    "        w_grad = -(2/total_samples)*(sample_x.T.dot(sample_y-y_predicted))\n",
    "        b_grad = -(2/total_samples)*(sample_y-y_predicted)\n",
    "        \n",
    "        w = w - learning_rate * w_grad\n",
    "        b = b - learning_rate * b_grad\n",
    "        \n",
    "        cost = np.square(sample_y-y_predicted)\n",
    "        \n",
    "        if i%10000==0: # at every 100th iteration record the cost and epoch value\n",
    "            print(f\"Epoch: {i}, Gewichte: {w}, Bias: {b}, Kosten: {cost}\")\n",
    "            cost_list.append(cost)\n",
    "            epoch_list.append(i)\n",
    "        \n",
    "    return w, b, cost, cost_list, epoch_list\n",
    "\n",
    "w_sgd, b_sgd, cost_sgd, cost_list_sgd, epoch_list_sgd = stochastic_gradient_descent(scaled_X,scaled_y.reshape(scaled_y.shape[0],),100000)\n",
    "print(f'Die Gewichte w1 und w2: {w_sgd}, der Bias b: {b_sgd}, die Kosten: {cost_sgd}')"
   ]
  },
  {
   "cell_type": "markdown",
   "metadata": {},
   "source": [
    "Was hier direkt auffällt ist, dass wir viel mehr Epochen haben, aber der Code nur bisschen länger braucht zum ausführen. Das liegt daran, dass Batch Gradient Descent bei allen Gewichten die Kosten ausrechnet und Sie dann angepasst werden und bei Stochastic Gradient Descent wird nur ein zufälliges Gewicht ausgewählt, anhand von den Kosten werden alle Gewichte angepasst. Dadurch verläuft die Kostenfunktion viel volatiler und es ist nicht unüblich, dass wir aus dem Minimum wieder herausfallen. Eine Lösung dafür wäre, dass wir das Trainieren abbrechen, sobald wir einen bestimmten Kostenwert erreicht haben. Nun plotten wir noch die Kosten abhängig von der Epochenzahl und schauen uns auch hier anschließend paar Predictions an. "
   ]
  },
  {
   "cell_type": "code",
   "execution_count": 76,
   "metadata": {},
   "outputs": [
    {
     "data": {
      "text/plain": [
       "[<matplotlib.lines.Line2D at 0x29c118406d0>]"
      ]
     },
     "execution_count": 76,
     "metadata": {},
     "output_type": "execute_result"
    },
    {
     "data": {
      "image/png": "[encoded data removed]",
      "text/plain": [
       "<Figure size 640x480 with 1 Axes>"
      ]
     },
     "metadata": {},
     "output_type": "display_data"
    }
   ],
   "source": [
    "plt.xlabel(\"epoch\")\n",
    "plt.ylabel(\"cost\")\n",
    "plt.plot(epoch_list_sgd,cost_list_sgd)"
   ]
  },
  {
   "cell_type": "markdown",
   "metadata": {},
   "source": [
    "Wir sehen es verläuft um einiges sprunghafter als der Batch Gradient Descent und teilweise waren die Kosten schon nach sehr wenigen Iterationen teilweise sehr niedrig sind, aber sind dann wieder hochgegangen. "
   ]
  },
  {
   "cell_type": "code",
   "execution_count": 54,
   "metadata": {},
   "outputs": [
    {
     "name": "stderr",
     "output_type": "stream",
     "text": [
      "c:\\Users\\paulg\\AppData\\Local\\Programs\\Python\\Python310\\lib\\site-packages\\sklearn\\base.py:450: UserWarning: X does not have valid feature names, but MinMaxScaler was fitted with feature names\n",
      "  warnings.warn(\n"
     ]
    },
    {
     "data": {
      "text/plain": [
       "789095.3330091073"
      ]
     },
     "execution_count": 54,
     "metadata": {},
     "output_type": "execute_result"
    }
   ],
   "source": [
    "predict(600,4,w_sgd, b_sgd) "
   ]
  },
  {
   "cell_type": "code",
   "execution_count": 55,
   "metadata": {},
   "outputs": [
    {
     "name": "stderr",
     "output_type": "stream",
     "text": [
      "c:\\Users\\paulg\\AppData\\Local\\Programs\\Python\\Python310\\lib\\site-packages\\sklearn\\base.py:450: UserWarning: X does not have valid feature names, but MinMaxScaler was fitted with feature names\n",
      "  warnings.warn(\n"
     ]
    },
    {
     "data": {
      "text/plain": [
       "363710.8720732219"
      ]
     },
     "execution_count": 55,
     "metadata": {},
     "output_type": "execute_result"
    }
   ],
   "source": [
    "predict(100,2,w_sgd, b_sgd)"
   ]
  },
  {
   "cell_type": "code",
   "execution_count": 63,
   "metadata": {},
   "outputs": [
    {
     "name": "stderr",
     "output_type": "stream",
     "text": [
      "c:\\Users\\paulg\\AppData\\Local\\Programs\\Python\\Python310\\lib\\site-packages\\sklearn\\base.py:450: UserWarning: X does not have valid feature names, but MinMaxScaler was fitted with feature names\n",
      "  warnings.warn(\n"
     ]
    },
    {
     "data": {
      "text/plain": [
       "834767.1400292962"
      ]
     },
     "execution_count": 63,
     "metadata": {},
     "output_type": "execute_result"
    }
   ],
   "source": [
    "predict(500,3,w_sgd, b_sgd)"
   ]
  },
  {
   "cell_type": "markdown",
   "metadata": {},
   "source": [
    "Die Implementierung vom Code um abbzubrechen, wenn die Kosten einen bestimmten Wert erreichen. In unserem Fall haben wir uns für 0.0000005 entschieden. Der Code wurde mehrfach ausgeführt. Einige Male war das Lernen schon nach weniger als 100 Epochen vollendet und einmal hat es 4000 Epochen gebraucht. Was dadurch klar wird, ist das ein Abbruch sobald ein bestimmter Kostenwert erreicht ist, beim Stochastic Gradient Descent sinnvoll ist, sofern man die Konvergenz einschätzen kann und einen guten Wert Kostenwert für das jewilige Model einschätzen kann. "
   ]
  },
  {
   "cell_type": "code",
   "execution_count": 61,
   "metadata": {},
   "outputs": [
    {
     "name": "stdout",
     "output_type": "stream",
     "text": [
      "Epoch: 0, Gewichte: [0.9995427  0.99940115], Bias: -0.0007186147186147185, Kosten: 0.2530394857667584\n",
      "Epoch: 100, Gewichte: [0.9761839  0.97484648], Bias: -0.03001671465610849, Kosten: 0.03831990463251462\n",
      "Epoch: 200, Gewichte: [0.96241895 0.95910777], Bias: -0.049191800303372155, Kosten: 0.00877533782674041\n",
      "Die Gewichte w1 und w2: [0.96241918 0.95910794], der Bias b: -0.04919128689315384, die Kosten: 1.2915912560952912e-07\n"
     ]
    }
   ],
   "source": [
    "def stochastic_gradient_descent(X, y_true, epochs, learning_rate = 0.01):\n",
    " \n",
    "    number_of_features = X.shape[1]\n",
    "    # numpy array mit 1 Spalte und Zeilen gleich der Anzahl von Features. In \n",
    "    # unserem Fall number_of_features = 2 (area, bedrooms)\n",
    "    w = np.ones(shape=(number_of_features)) \n",
    "    b = 0\n",
    "    total_samples = X.shape[0]\n",
    "    \n",
    "    cost_list = []\n",
    "    epoch_list = []\n",
    "    \n",
    "    for i in range(epochs):    \n",
    "        random_index = random.randint(0,total_samples-1) # random index from total samples\n",
    "        sample_x = X[random_index]\n",
    "        sample_y = y_true[random_index]\n",
    "        \n",
    "        y_predicted = np.dot(w, sample_x.T) + b\n",
    "    \n",
    "        w_grad = -(2/total_samples)*(sample_x.T.dot(sample_y-y_predicted))\n",
    "        b_grad = -(2/total_samples)*(sample_y-y_predicted)\n",
    "        \n",
    "        w = w - learning_rate * w_grad\n",
    "        b = b - learning_rate * b_grad\n",
    "        \n",
    "        cost = np.square(sample_y-y_predicted)\n",
    "        \n",
    "        if i%100==0: # at every 100th iteration record the cost and epoch value\n",
    "            print(f\"Epoch: {i}, Gewichte: {w}, Bias: {b}, Kosten: {cost}\")\n",
    "\n",
    "        cost_list.append(cost)\n",
    "        epoch_list.append(i)    \n",
    "        if cost <= 0.0000005:\n",
    "            break    \n",
    "        \n",
    "    return w, b, cost, cost_list, epoch_list\n",
    "\n",
    "w_sgd, b_sgd, cost_sgd, cost_list_sgd, epoch_list_sgd = stochastic_gradient_descent(scaled_X,scaled_y.reshape(scaled_y.shape[0],),10000)\n",
    "print(f'Die Gewichte w1 und w2: {w_sgd}, der Bias b: {b_sgd}, die Kosten: {cost_sgd}')"
   ]
  },
  {
   "cell_type": "code",
   "execution_count": 64,
   "metadata": {},
   "outputs": [
    {
     "data": {
      "text/plain": [
       "[<matplotlib.lines.Line2D at 0x29c129ac9a0>]"
      ]
     },
     "execution_count": 64,
     "metadata": {},
     "output_type": "execute_result"
    },
    {
     "data": {
      "image/png": "[encoded data removed]",
      "text/plain": [
       "<Figure size 640x480 with 1 Axes>"
      ]
     },
     "metadata": {},
     "output_type": "display_data"
    }
   ],
   "source": [
    "plt.xlabel(\"epoch\")\n",
    "plt.ylabel(\"cost\")\n",
    "plt.plot(epoch_list_sgd,cost_list_sgd)"
   ]
  },
  {
   "cell_type": "markdown",
   "metadata": {},
   "source": [
    "Die Code Implementierung vom Mini-Batch Gradient Descent lassen wir aus, da es einfach die Kombination aus Batch Gradient Descent und Stochastic Gradient Descent ist. Die Theorie dahinter ist weiter oben erklärt. Auf die restlichen Optimizer bis auf Adam werden wir im weiteren Verlauf nur oberflächlich drauf eingehen, da wir es nicht für zeitlich machbar erachten alle in einer Einführung mit Beispielen und Code zu beleuchten. Viel mehr konzentrieren wir uns da auf das grundsätzliche Verständnis, wann welcher Optimizer benutzt werden kann und was die Vor- und Nachteile sind. "
   ]
  },
  {
   "cell_type": "markdown",
   "metadata": {},
   "source": [
    "#### Momentum\n",
    "\n",
    "Momentum ist eine Optimierungsfunktion, welche einen weiteren Hyperparameter ß benötigt als der Batch Gradient Descent Optimizer. ß wird mit den Datenpunkten multipliziert wodurch wir den exponential gewichteten Durchschnitt bekommen. Bekannt als exponentially weighted moving average. Das bedeutet das neue Daten stärker gewichtet werden, als alte in dem jeder Datenpunkt mit einer Variable ß multipliziert wird. Jeder Datenpunkt der ganz neu ist, wird ohne jegliche Multiplikation mit ß angenommen. Ein Datenpunkt der eine Iteration alt ist, wird mit ß multiplizert. ß ist ein Wert zwischen 0 und 1. Normalerwise wird ß auf 0.9 gesetzt. Ein zwei Iterationen alter Datenpunkt wird mit ß^2 multipliziert. Daraus schließen wir, dass alte Datenpunkte nichtmehr in die Gewichtung mit reinfallen, da der Exponent immer größer wird und somit das Ergebnis der Multiplikation gegen null geht. Ein Problem, dass der Momentum Optimizer angeht ist, dass er schneller in die relevante Richtung geht und weniger zackig, wie es zum Beispiel der Mini-Batch Gradient Descent Optimizer oft macht. "
   ]
  },
  {
   "cell_type": "markdown",
   "metadata": {},
   "source": [
    "#### Adam\n",
    "\n",
    "Adam ist der beliebteste Optimizer. Das liegt daran, dass er oft sehr schnell gute Ergebnisse liefert. Adam ist eine Kombination aus Momentum und RMSProb. Da wir RMSProb und Momentum nicht in der Tiefe behandelt haben in unserer Ausarbeitung. Werden wir auch auf Adam nicht in der Tiefe eingehen. Das ist ein Thema für die Zukunft. Der Grund dafür ist, dass die Gradient Descent Verfahren einfacher zu verstehen und somit einfacher zu erklären sind. \n",
    "\n",
    "**Vorteile:**\n",
    "- Findet schnell gute Lösungen \n",
    "\n",
    "**Nachteile:**\n",
    "- Kann über das Minimum hinaus schießen."
   ]
  },
  {
   "cell_type": "markdown",
   "metadata": {},
   "source": [
    "<img src=\"https://miro.medium.com/max/1200/1*_osB82GKHBOT8k1idLqiqA.gif\" alt=\"Various Optimizers\" width=\"400px\" />"
   ]
  },
  {
   "cell_type": "markdown",
   "metadata": {},
   "source": [
    "#### Abschluss\n",
    "\n",
    "Es nicht leicht zu sagen, welcher Optimizer der beste ist. Es ist immer problemabhängig und oft kann man durch ein wenig probieren herausfinden, welcher geeignet ist. Adam oder Stochastic Gradient Descent sind gute Optimizer zum anfangen. "
   ]
  },
  {
   "cell_type": "markdown",
   "metadata": {},
   "source": [
    "### Loss Functions"
   ]
  },
  {
   "cell_type": "markdown",
   "metadata": {},
   "source": [
    "#### Was ist eine Kostenfunktion?\n",
    "Eine Kostenfunktion ist eine mathematische Formel. Sie gibt wieder, wie gut ein gegebenes Model zu bestimmten Daten performed. Wir werden uns im Verlauf drei solcher Kostenfunktionen ansehen. Die wohl bekannteste Kostenfunktion unter Laien ist die Mean Squared Error (MSE) Funktion, da Sie oft schon in der Schule behandelt wird. Wir werden aber auch kurz auf die Sparse Categorical Crossentropy (SCCE) Funktion und die Categorical Crossentropy (CCE) Funktion eingehen. Das Ergebnis jeder Kostenfunktionen sind die Kosten, welche wir möglichst klein halten wollen. Je kleiner die Kosten desto besser fittet unser Model die Daten. Wir müssen nur aufpassen, dass wir nicht overfitten."
   ]
  },
  {
   "cell_type": "markdown",
   "metadata": {},
   "source": [
    "#### Mean Squared Error\n",
    "$$\n",
    "m = vorhergesagten \\; Zielwerte \n",
    "$$\n"
   ]
  },
  {
   "cell_type": "markdown",
   "metadata": {},
   "source": [
    "$$\n",
    "y = tatsächliche \\; Zielwerte \n",
    "$$"
   ]
  },
  {
   "cell_type": "markdown",
   "metadata": {},
   "source": [
    "$$\n",
    "MSE = \\frac{1}{n}\\sum_{i=1}^{n}(m-y)^2\n",
    "$$"
   ]
  },
  {
   "cell_type": "markdown",
   "metadata": {},
   "source": [
    "#### Caterogical Cross Entropy\n",
    "Im deutschen bekannt als Kreuzentropie.\n",
    "$$\n",
    "P = Wahrscheinlichkeit\n",
    "$$"
   ]
  },
  {
   "cell_type": "markdown",
   "metadata": {},
   "source": [
    "$$\n",
    "CCE = -\\sum_{i=1}P^*(i) \\log_{P(i)}\n",
    "$$"
   ]
  },
  {
   "cell_type": "markdown",
   "metadata": {},
   "source": [
    "#### Kostenfunktionen am Beispiel vom MNIST Datensatz\n",
    "Da der MNIST Datensatz von vorherigen Gruppen schon behandelt wurde, werden wir nicht weiter darauf eingehen, sondern werden uns voll und ganz den Kostenfunktionen widmen"
   ]
  },
  {
   "cell_type": "code",
   "execution_count": 2,
   "metadata": {},
   "outputs": [
    {
     "name": "stdout",
     "output_type": "stream",
     "text": [
      "Downloading data from https://storage.googleapis.com/tensorflow/tf-keras-datasets/mnist.npz\n",
      "11490434/11490434 [==============================] - 4s 0us/step\n"
     ]
    }
   ],
   "source": [
    "model_mse = get_model() # Modell mit Mean Squared Error Loss\n",
    "model_cce =  get_model() # Modell mit Categorical Crossentropy\n",
    "model_scce = get_model() # Modell mit Sparse Categorical Crossentropy\n",
    "\n",
    "optimizer = 'sgd'\n",
    "\n",
    "model_mse.compile(\n",
    "    optimizer=optimizer,\n",
    "    loss='mean_squared_error',\n",
    "    metrics=['accuracy']\n",
    ")\n",
    "model_cce.compile(\n",
    "    optimizer=optimizer,\n",
    "    loss='categorical_crossentropy',\n",
    "    metrics=['accuracy']\n",
    ")\n",
    "model_scce.compile(\n",
    "    optimizer=optimizer,\n",
    "    loss='sparse_categorical_crossentropy',\n",
    "    metrics=['accuracy']\n",
    ")\n",
    "  "
   ]
  },
  {
   "cell_type": "markdown",
   "metadata": {},
   "source": [
    "#### Trainiern der Modelle\n",
    "\n",
    "Dabei werden die Trainigsergebnisse in der history List gespeichert. \n",
    "\n",
    "Für das Training mit der Sparse Categorical Crossentropy müssen die Daten nicht geändert weden. Deswegen kann hier schon mit `model.fit()` trainiert werden. Dabei wird gleich ein Validierungsdatensatz festgelegt.\n",
    "\n",
    "Die anderen beiden Modell werden der models List hinzugefügt, um diese Trainieren zu können. "
   ]
  },
  {
   "cell_type": "code",
   "execution_count": 3,
   "metadata": {},
   "outputs": [
    {
     "name": "stdout",
     "output_type": "stream",
     "text": [
      "Epoch 1/15\n",
      "1875/1875 [==============================] - 5s 2ms/step - loss: 0.6490 - accuracy: 0.8356 - val_loss: 0.3588 - val_accuracy: 0.9040\n",
      "Epoch 2/15\n",
      "1875/1875 [==============================] - 5s 3ms/step - loss: 0.3414 - accuracy: 0.9043 - val_loss: 0.2954 - val_accuracy: 0.9185\n",
      "Epoch 3/15\n",
      "1875/1875 [==============================] - 5s 3ms/step - loss: 0.2942 - accuracy: 0.9171 - val_loss: 0.2672 - val_accuracy: 0.9275\n",
      "Epoch 4/15\n",
      "1875/1875 [==============================] - 5s 3ms/step - loss: 0.2642 - accuracy: 0.9258 - val_loss: 0.2452 - val_accuracy: 0.9317\n",
      "Epoch 5/15\n",
      "1875/1875 [==============================] - 5s 3ms/step - loss: 0.2411 - accuracy: 0.9325 - val_loss: 0.2243 - val_accuracy: 0.9374\n",
      "Epoch 6/15\n",
      "1875/1875 [==============================] - 5s 3ms/step - loss: 0.2222 - accuracy: 0.9375 - val_loss: 0.2087 - val_accuracy: 0.9406\n",
      "Epoch 7/15\n",
      "1875/1875 [==============================] - 5s 3ms/step - loss: 0.2060 - accuracy: 0.9424 - val_loss: 0.1987 - val_accuracy: 0.9439\n",
      "Epoch 8/15\n",
      "1875/1875 [==============================] - 4s 2ms/step - loss: 0.1925 - accuracy: 0.9460 - val_loss: 0.1849 - val_accuracy: 0.9485\n",
      "Epoch 9/15\n",
      "1875/1875 [==============================] - 4s 2ms/step - loss: 0.1806 - accuracy: 0.9491 - val_loss: 0.1750 - val_accuracy: 0.9503\n",
      "Epoch 10/15\n",
      "1875/1875 [==============================] - 5s 3ms/step - loss: 0.1699 - accuracy: 0.9521 - val_loss: 0.1654 - val_accuracy: 0.9521\n",
      "Epoch 11/15\n",
      "1875/1875 [==============================] - 5s 3ms/step - loss: 0.1606 - accuracy: 0.9549 - val_loss: 0.1581 - val_accuracy: 0.9542\n",
      "Epoch 12/15\n",
      "1875/1875 [==============================] - 4s 2ms/step - loss: 0.1522 - accuracy: 0.9573 - val_loss: 0.1536 - val_accuracy: 0.9564\n",
      "Epoch 13/15\n",
      "1875/1875 [==============================] - 4s 2ms/step - loss: 0.1447 - accuracy: 0.9592 - val_loss: 0.1447 - val_accuracy: 0.9585\n",
      "Epoch 14/15\n",
      "1875/1875 [==============================] - 4s 2ms/step - loss: 0.1376 - accuracy: 0.9614 - val_loss: 0.1396 - val_accuracy: 0.9611\n",
      "Epoch 15/15\n",
      "1875/1875 [==============================] - 5s 2ms/step - loss: 0.1316 - accuracy: 0.9627 - val_loss: 0.1351 - val_accuracy: 0.9608\n"
     ]
    }
   ],
   "source": [
    "epochs=15 # Festlegung von 15 Trainigsepochen\n",
    "history = [model_scce.fit(\n",
    "    train_images,\n",
    "    train_labels,\n",
    "    epochs=epochs,\n",
    "    validation_data=(test_images, test_labels),\n",
    "    verbose=True)\n",
    "]\n",
    "models = [model_mse, model_cce]"
   ]
  },
  {
   "cell_type": "markdown",
   "metadata": {},
   "source": [
    "#### Umwandlung der Labels in Categorical Labels \n",
    "(mehr dazu am Ende des Notebooks) \n",
    "\n",
    "Diese werden für das Training mit den anderen Loss Functions benötigt"
   ]
  },
  {
   "cell_type": "code",
   "execution_count": 4,
   "metadata": {},
   "outputs": [
    {
     "name": "stdout",
     "output_type": "stream",
     "text": [
      "Epoch 1/15\n",
      "1875/1875 [==============================] - 5s 2ms/step - loss: 0.1027 - accuracy: 0.2733 - val_loss: 0.0842 - val_accuracy: 0.4589\n",
      "Epoch 2/15\n",
      "1875/1875 [==============================] - 5s 3ms/step - loss: 0.0787 - accuracy: 0.5490 - val_loss: 0.0722 - val_accuracy: 0.6305\n",
      "Epoch 3/15\n",
      "1875/1875 [==============================] - 4s 2ms/step - loss: 0.0667 - accuracy: 0.6615 - val_loss: 0.0603 - val_accuracy: 0.7000\n",
      "Epoch 4/15\n",
      "1875/1875 [==============================] - 5s 3ms/step - loss: 0.0564 - accuracy: 0.7272 - val_loss: 0.0516 - val_accuracy: 0.7654\n",
      "Epoch 5/15\n",
      "1875/1875 [==============================] - 5s 3ms/step - loss: 0.0492 - accuracy: 0.7807 - val_loss: 0.0455 - val_accuracy: 0.8095\n",
      "Epoch 6/15\n",
      "1875/1875 [==============================] - 4s 2ms/step - loss: 0.0440 - accuracy: 0.8103 - val_loss: 0.0411 - val_accuracy: 0.8353\n",
      "Epoch 7/15\n",
      "1875/1875 [==============================] - 5s 3ms/step - loss: 0.0402 - accuracy: 0.8284 - val_loss: 0.0378 - val_accuracy: 0.8456\n",
      "Epoch 8/15\n",
      "1875/1875 [==============================] - 6s 3ms/step - loss: 0.0373 - accuracy: 0.8395 - val_loss: 0.0352 - val_accuracy: 0.8545\n",
      "Epoch 9/15\n",
      "1875/1875 [==============================] - 3s 2ms/step - loss: 0.0351 - accuracy: 0.8474 - val_loss: 0.0332 - val_accuracy: 0.8611\n",
      "Epoch 10/15\n",
      "1875/1875 [==============================] - 5s 3ms/step - loss: 0.0332 - accuracy: 0.8540 - val_loss: 0.0315 - val_accuracy: 0.8667\n",
      "Epoch 11/15\n",
      "1875/1875 [==============================] - 5s 3ms/step - loss: 0.0317 - accuracy: 0.8595 - val_loss: 0.0301 - val_accuracy: 0.8711\n",
      "Epoch 12/15\n",
      "1875/1875 [==============================] - 5s 3ms/step - loss: 0.0304 - accuracy: 0.8634 - val_loss: 0.0289 - val_accuracy: 0.8747\n",
      "Epoch 13/15\n",
      "1875/1875 [==============================] - 4s 2ms/step - loss: 0.0293 - accuracy: 0.8667 - val_loss: 0.0279 - val_accuracy: 0.8772\n",
      "Epoch 14/15\n",
      "1875/1875 [==============================] - 4s 2ms/step - loss: 0.0283 - accuracy: 0.8697 - val_loss: 0.0270 - val_accuracy: 0.8795\n",
      "Epoch 15/15\n",
      "1875/1875 [==============================] - 4s 2ms/step - loss: 0.0275 - accuracy: 0.8723 - val_loss: 0.0262 - val_accuracy: 0.8815\n",
      "Epoch 1/15\n",
      "1875/1875 [==============================] - 5s 3ms/step - loss: 0.6470 - accuracy: 0.8414 - val_loss: 0.3587 - val_accuracy: 0.9029\n",
      "Epoch 2/15\n",
      "1875/1875 [==============================] - 5s 2ms/step - loss: 0.3387 - accuracy: 0.9065 - val_loss: 0.2938 - val_accuracy: 0.9168\n",
      "Epoch 3/15\n",
      "1875/1875 [==============================] - 5s 2ms/step - loss: 0.2880 - accuracy: 0.9198 - val_loss: 0.2640 - val_accuracy: 0.9258\n",
      "Epoch 4/15\n",
      "1875/1875 [==============================] - 4s 2ms/step - loss: 0.2565 - accuracy: 0.9281 - val_loss: 0.2354 - val_accuracy: 0.9328\n",
      "Epoch 5/15\n",
      "1875/1875 [==============================] - 4s 2ms/step - loss: 0.2326 - accuracy: 0.9355 - val_loss: 0.2184 - val_accuracy: 0.9376\n",
      "Epoch 6/15\n",
      "1875/1875 [==============================] - 3s 2ms/step - loss: 0.2137 - accuracy: 0.9411 - val_loss: 0.2043 - val_accuracy: 0.9427\n",
      "Epoch 7/15\n",
      "1875/1875 [==============================] - 5s 2ms/step - loss: 0.1980 - accuracy: 0.9447 - val_loss: 0.1887 - val_accuracy: 0.9450\n",
      "Epoch 8/15\n",
      "1875/1875 [==============================] - 5s 3ms/step - loss: 0.1846 - accuracy: 0.9483 - val_loss: 0.1798 - val_accuracy: 0.9488\n",
      "Epoch 9/15\n",
      "1875/1875 [==============================] - 5s 3ms/step - loss: 0.1729 - accuracy: 0.9516 - val_loss: 0.1684 - val_accuracy: 0.9507\n",
      "Epoch 10/15\n",
      "1875/1875 [==============================] - 5s 3ms/step - loss: 0.1628 - accuracy: 0.9546 - val_loss: 0.1616 - val_accuracy: 0.9521\n",
      "Epoch 11/15\n",
      "1875/1875 [==============================] - 4s 2ms/step - loss: 0.1540 - accuracy: 0.9570 - val_loss: 0.1549 - val_accuracy: 0.9548\n",
      "Epoch 12/15\n",
      "1875/1875 [==============================] - 4s 2ms/step - loss: 0.1458 - accuracy: 0.9590 - val_loss: 0.1467 - val_accuracy: 0.9576\n",
      "Epoch 13/15\n",
      "1875/1875 [==============================] - 6s 3ms/step - loss: 0.1388 - accuracy: 0.9613 - val_loss: 0.1423 - val_accuracy: 0.9593\n",
      "Epoch 14/15\n",
      "1875/1875 [==============================] - 7s 3ms/step - loss: 0.1323 - accuracy: 0.9632 - val_loss: 0.1356 - val_accuracy: 0.9612\n",
      "Epoch 15/15\n",
      "1875/1875 [==============================] - 6s 3ms/step - loss: 0.1264 - accuracy: 0.9648 - val_loss: 0.1324 - val_accuracy: 0.9619\n"
     ]
    }
   ],
   "source": [
    "_train_labels = keras.utils.to_categorical(train_labels, 10)\n",
    "_test_labels = keras.utils.to_categorical(test_labels, 10)\n",
    "\n",
    "# Trainieren der anderen beiden Modelle\n",
    "history += [model.fit(train_images, _train_labels, epochs=epochs, validation_data=(test_images, _test_labels), verbose=True) for model in models]"
   ]
  },
  {
   "cell_type": "markdown",
   "metadata": {},
   "source": [
    "#### Plotten der Ergebnisse mit Matplotlib\n",
    "\n",
    "Über `plt.plot` werden die einzelnen Ergebnisse der Modelle in verschiedenen Farben eingebunden."
   ]
  },
  {
   "cell_type": "code",
   "execution_count": 5,
   "metadata": {},
   "outputs": [
    {
     "data": {
      "text/plain": [
       "<module 'matplotlib.pyplot' from 'c:\\\\Users\\\\paulg\\\\AppData\\\\Local\\\\Programs\\\\Python\\\\Python310\\\\lib\\\\site-packages\\\\matplotlib\\\\pyplot.py'>"
      ]
     },
     "execution_count": 5,
     "metadata": {},
     "output_type": "execute_result"
    },
    {
     "data": {
      "image/png": "[encoded data removed]",
      "text/plain": [
       "<Figure size 640x480 with 1 Axes>"
      ]
     },
     "metadata": {},
     "output_type": "display_data"
    }
   ],
   "source": [
    "def plot_learning_curve(ylim=0.6):\n",
    "    plt.figure()\n",
    "    plt.title(\"accuracy comparison\")\n",
    "    axes = plt.gca()\n",
    "    axes.set_ylim([ylim, 1])\n",
    "    plt.xlabel(\"Epoch\")\n",
    "    plt.ylabel(\"Accuracy\")\n",
    "    train_sizes = np.arange(1, 1 + len(history[0].history['accuracy']))\n",
    "    plt.ylim((0,1))\n",
    "    plt.grid()\n",
    "    plt.plot(\n",
    "        train_sizes,\n",
    "        history[0].history['accuracy'],\n",
    "        'o-',\n",
    "        color=(177/255, 6/255, 58/255),\n",
    "        label=\"scce\"\n",
    "    )\n",
    "    plt.plot(\n",
    "        train_sizes,\n",
    "        history[1].history['accuracy'],\n",
    "        'o-',\n",
    "        color=(246/255, 168/255, 0),\n",
    "        label=\"mse\")\n",
    "    \n",
    "    plt.plot(\n",
    "        train_sizes,\n",
    "        history[2].history['accuracy'],\n",
    "        'o-',\n",
    "        color='green',\n",
    "        label=\"cce\"\n",
    "    )\n",
    "\n",
    "    plt.legend(loc=\"best\")\n",
    "    return plt\n",
    "\n",
    "plot_learning_curve()"
   ]
  },
  {
   "cell_type": "markdown",
   "metadata": {},
   "source": [
    "- scce = Sparse Categorical Crossentropy\n",
    "- cce = Categorical Crossentropy\n",
    "- mse = Mean Squared Error"
   ]
  },
  {
   "cell_type": "markdown",
   "metadata": {},
   "source": [
    "#### Wann sollte man CategoricalCross Entropy nutzen und wann Sparse Categorical Crossentropy?\n",
    "\n",
    "für `Categorical Cross Entropy` müssen die Labels als Array mit einer 1 am Index der zugehören Klasse vorliegen.\n",
    "\n",
    "\n",
    "für `Sparse Categorical Cross Entropy` müssen die Labels mit Bezeichnung der Ausgangsklasse vorliegen."
   ]
  },
  {
   "cell_type": "code",
   "execution_count": 6,
   "metadata": {},
   "outputs": [
    {
     "name": "stdout",
     "output_type": "stream",
     "text": [
      "Test labels categorical:\n",
      "[[0. 0. 0. 0. 0. 0. 0. 1. 0. 0.]\n",
      " [0. 0. 1. 0. 0. 0. 0. 0. 0. 0.]]\n",
      "Verwendung der categorical_crossentropy gefordert\n",
      "\n",
      "\n",
      "Test labels non categorical:\n",
      "[7 2]\n",
      "Verwendung der sparse_categorical_crossentropy gefordert\n"
     ]
    }
   ],
   "source": [
    "_test_labels = keras.utils.to_categorical(test_labels, 10)\n",
    "\n",
    "print('Test labels categorical:')\n",
    "print(_test_labels[:2])\n",
    "print('Verwendung der categorical_crossentropy gefordert')\n",
    "print('\\n')\n",
    "print('Test labels non categorical:')\n",
    "print(test_labels[:2])\n",
    "print('Verwendung der sparse_categorical_crossentropy gefordert')"
   ]
  },
  {
   "cell_type": "markdown",
   "metadata": {},
   "source": [
    "Umwandlung in Categorical Werte:"
   ]
  },
  {
   "cell_type": "code",
   "execution_count": 7,
   "metadata": {},
   "outputs": [],
   "source": [
    "_test_labels = keras.utils.to_categorical(train_labels, 10)"
   ]
  },
  {
   "cell_type": "markdown",
   "metadata": {},
   "source": [
    "## Verbessern des Modells\n",
    "<!-- \n",
    "Aufzeigen, wie das Lernen verbessert und beschleunigt werden kann\n",
    "\n",
    "* Hyperparameter verbessern\n",
    "* Daten verbessern\n",
    "\n"
   ]
  },
  {
   "cell_type": "markdown",
   "metadata": {},
   "source": [
    "### Overfitting / Underfitting\n",
    "\n",
    "Overfitting ist ein Problem, welches bei jedem Modell auftreten kann. Es ist ein Phänomen, bei dem das Modell zu stark an die Trainingsdaten angepasst wird. Dadurch wird das Modell nicht mehr in der Lage sein, neue Daten zu erkennen. Das Modell lernt die Trainingsdaten zu gut und kann diese nicht mehr richtig einordnen. Das Modell wird zu spezifisch.\n",
    "\n",
    "Underfitting ist das Gegenteil von Overfitting. Das Modell ist nicht in der Lage, die Trainingsdaten richtig zu erkennen. Das Modell ist zu allgemein und kann die Trainingsdaten nicht richtig einordnen.\n",
    "\n",
    "<img src=\"https://miro.medium.com/max/1400/1*i_lp_hUFyUD_Sq4pLer28g.png\" alt=\"Over- / Underfitting Example\" height=\"300px\" />\n"
   ]
  },
  {
   "cell_type": "markdown",
   "metadata": {},
   "source": [
    "### Automatisch die besten Werte finden\n",
    "\n",
    "Von Hand die einzelnen Hyperparameter zu ändern und zu gucken, welcher Wert am besten ist, ist sehr zeitaufwendig. Deswegen gibt es sogenannte Hyperparameter-Tuning-Tools. Diese Tools können die besten Hyperparameter automatisch finden. Ein bekanntes Tool ist zum Beispiel GridSearchCV von Scikit-Learn. Hier kann man eine Matrix (Grid) mit verschiedenen Hyperparametern erstellen und das Tool trainiert verschiedene Modelle mit allen möglichen Kombinationen. Das Tool gibt dann die besten Hyperparameter zurück. Damit Scikit-Learn die Modelle von Tensorflow/Keras versteht, wird das Paket `scikeras` benötigt, welches dann eine abstrakte Klasse von Keras erstellt für Scikit-Learn erstellt."
   ]
  },
  {
   "cell_type": "code",
   "execution_count": 1,
   "metadata": {},
   "outputs": [
    {
     "name": "stdout",
     "output_type": "stream",
     "text": [
      "{'batch_size': 64, 'epochs': 15}\n"
     ]
    }
   ],
   "source": [
    "from scikeras.wrappers import KerasClassifier\n",
    "from sklearn.model_selection import GridSearchCV\n",
    "from mnist_model import get_compiled_model\n",
    "from keras.datasets import mnist\n",
    "\n",
    "# Can also have more hyperparameters\n",
    "param_grid = {\n",
    "    'epochs': [5, 10, 15],\n",
    "    'batch_size': [32, 64, 128]\n",
    "}\n",
    "\n",
    "kc = KerasClassifier(get_compiled_model, verbose=0)\n",
    "\n",
    "gs = GridSearchCV(\n",
    "    estimator=kc,\n",
    "    param_grid=param_grid,\n",
    "    cv=10, # 10-fold cross validation\n",
    "    n_jobs=-1, # use all available cores\n",
    "    scoring='accuracy',\n",
    "    verbose=0 # suppress output\n",
    ")\n",
    "\n",
    "# Load MNIST data\n",
    "(X_train, y_train), (X_test,  y_test) = mnist.load_data()\n",
    "\n",
    "# Normalize data\n",
    "X_train = X_train / 255.0\n",
    "X_test = X_test / 255.0\n",
    "\n",
    "gs.fit(X_train, y_train)\n",
    "\n",
    "print(gs.best_params_)"
   ]
  },
  {
   "cell_type": "markdown",
   "metadata": {},
   "source": [
    "## Ausblick\n",
    "\n",
    "Wenn Sie an dieser Stelle angekommen sind, dann sind wir soweit durch mit unserer Ausarbeitung. Wir möchten an dieser Stelle einen Ausblick gewähren, welche Themen wir nicht behandelt haben und welche Sie sich selbstständig noch aneignen können. Im Rückblick haben wir uns mit dem Aufbau eines einfachen Neuronalen Netzes beschäftigt und sind dabei auf die Hyperparameter (Lernrate, Epochen, Batch-Größe, Aktievierungsfunktionen, Anzahl der Schichten, Kostenfunktion und Optimizer) eingegangen. Dabei haben wir bei einzelnen Themen auch Coding Beispiele eingebaut, die Ihnen zum leichteren Verständnis dienen sollen. Worauf wir nicht eingegangen sind die Convolutional Neural Networks, welche unter anderem zur Bilderkennnung genutzt werden. Wir sind nicht mathematisch auf alle verfügbaren Kostenfunktionen und Optimizer eingegangen."
   ]
  },
  {
   "cell_type": "markdown",
   "metadata": {},
   "source": [
    "## Quellen\n",
    "\n",
    "\n",
    "1. <a href=\"https://towardsdatascience.com/machine-learning-for-beginners-an-introduction-to-neural-networks-d49f22d238f9\">Machine Learning for Beginners an Introduction to Neural Networks</a>\n",
    "2. <a href=\"https://learn.microsoft.com/de-de/training/modules/intro-machine-learning-keras/\">Coding Beispiel eines Neuronalen Netzes von Microsoft</a>\n",
    "3. <a href=\"https://open.hpi.de/courses/neuralnets2020/overview\">Online Kurs von OpenHPI zu Neuronalen Netzen</a>\n",
    "4. <a href=\"https://towardsdatascience.com/write-markdown-latex-in-the-jupyter-notebook-10985edb91fd\">Learn to write LaTeX in Jupyter Notebook</a>\n",
    "5. <a href=\"http://neuralnetworksanddeeplearning.com/\">Buch: Einführung in Neuronale Netze und Deep Learning</a>\n",
    "6. <a href=\"https://www.youtube.com/watch?v=aircAruvnKk\">Video: What is a Neural Network</a>\n",
    "7. <a href=\"https://www.youtube.com/watch?v=IHZwWFHWa-w\">Video: Gradient descent, how neural networks learn</a>\n",
    "8. <a href=\"https://www.youtube.com/watch?v=Ilg3gGewQ5U\">Video: What does Backpropagation do?</a>\n",
    "9. <a href=\"https://de.wikipedia.org/wiki/Kreuzentropie\">Wikipedia: Kreuzentropie</a>\n",
    "10. <a href=\"https://vitalflux.com/keras-categorical-cross-entropy-loss-function/#:~:text=categorical_crossentropy%3A%20Used%20as%20a%20loss%20function%20for%20multi-class,converted%20into%20categorical%20encoding%20using%20keras.utils%20to_categorical%20method.\">Article: Cross Entropy Loss Function </a>\n",
    "11. <a href=\"https://www.grund-wissen.de/informatik/latex/mathematischer-formelsatz.html#:~:text=Das%20Summenzeichen%20kann%20im%20Mathe-Modus%20mittels%20sum%20gedruckt,Syntax%20genutzt%20und%20somit%20sum_%20%7B%7D%5E%20%7B%7D%20geschrieben%3A\">Artikel: Mathematischer Formelsatz LaTeX</a>\n",
    "12. <a href=\"https://neuroforge.de/wie-optimiere-ich-ein-neuronales-netz/\">Artikel: Wie optimiere ich ein Neuronales Netz</a>\n",
    "13. <a href=\"https://towardsdatascience.com/optimizers-for-training-neural-network-59450d71caf6\">Article: Which is the best optimzer?</a>\n",
    "14. <a href=\"https://towardsdatascience.com/overview-of-various-optimizers-in-neural-networks-17c1be2df6d5\">Article: Overview of various Optimizers</a>\n",
    "15. <a href=\"https://methpsy.elearning.psych.tu-dresden.de/mediawiki/index.php/Gradient_Descent#:~:text=Unter%20Gradient%20Descent%20versteht%20man%20einen%20Optimierungsalgorithmus%2C%20der,und%20einen%20im%20Tal%20gelegenen%20See%20erreichen%20m%C3%B6chte.\">Artikel: TU Dresden zu Gradient Descent</a>\n",
    "16. <a href=\"https://towardsdatascience.com/epoch-vs-iterations-vs-batch-size-4dfb9c7ce9c9\">Artikel: Epochen vs Iterations vs Batchsizes</a>\n",
    "17. <a href=\"https://towardsdatascience.com/what-are-hyperparameters-and-how-to-tune-the-hyperparameters-in-a-deep-neural-network-d0604917584a\">Artikel: What are Hyperparameters and how to tune the hyperparameters in a deep neural network</a>\n",
    "18. <a href=\"https://www.youtube.com/watch?v=IU5fuoYBTAM&t=8s\">Video: Difference Batch-,Stochastic- and Mini-Batch Gradient Descent</a>\n",
    "19. <a href=\"https://www.youtube.com/watch?v=cT4pQT5Da0Q\">Video: Derratives for Deep Learning</a>\n",
    "20. <a href=\"https://www.youtube.com/watch?v=oCPT87SvkPM\">Video: Backpropagation</a>\n",
    "21. <a href=\"https://www.alexanderthamm.com/de/data-science-glossar/backpropagation/\">Artikel: Backpropagation</a>\n",
    "22. <a href=\"https://github.com/codebasics/deep-learning-keras-tf-tutorial\">Github Repo: Deep Learning Keras Tutorial</a>\n",
    "23. <a href=\"https://www.youtube.com/watch?v=Vce8w1sy0e8\">Video: Momentum Optimizer</a>\n",
    "24. <a href=\"https://machinelearningjourney.com/index.php/2020/12/01/momentum-optimizer/#:~:text=The%20momentum%20optimizer%20is%20a%20set%20of%20equations.,terms%20in%20order%20to%20update%20a%20networks%20parameters.\">Article: Momentum Optimizer</a>\n",
    "25. <a href=\"https://www.youtube.com/watch?v=JXQT_vxqwIs\">Video: Adam Optimizer</a>\n",
    "26. <a href=\"https://www.youtube.com/watch?v=mdKjMPmcWjY\">Video: Optimizers explained</a>\n",
    "27. <a href=\"\"></a>\n",
    "28. <a href=\"\"></a>\n",
    "29. <a href=\"\"></a>\n",
    "\n",
    "### Dokumentation benutzter Libraries\n",
    "\n",
    "1. <a href=\"https://www.tensorflow.org/api_docs/python/tf/keras\">Keras</a>\n",
    "2. <a href=\"https://numpy.org/doc/stable/user/index.html#user\">Numpy</a>\n",
    "3. <a href=\"https://matplotlib.org/stable/api/pyplot_summary.html\">Matplotlib</a>\n",
    "4. <a href=\"https://www.tensorflow.org/api_docs/python/tf\">Tensorflow</a>\n",
    "5. <a href=\"https://scikit-learn.org/stable/\">Scikit-Learn</a>\n",
    "6. <a href=\"https://www.adriangb.com/scikeras/stable/\">SciKeras</a>\n",
    "\n",
    "### Empfehlungen bei zusätzlichem Literatur-/Informationsbedarf\n",
    "\n",
    "1. <a href=\"https://towardsdatascience.com/\">Towards Data Science Blog</a>\n",
    "2. <a href=\"https://www.udemy.com/course/the-data-science-course-complete-data-science-bootcamp/\">Online Kurs zu ML und Data Science auf Udemy in Englisch</a>\n",
    "3. <a href=\"https://youtube.com/playlist?list=PLZHQObOWTQDNU6R1_67000Dx_ZCJB-3pi\">Youtube Videos über Neuronale Netze auf Englisch</a>\n",
    "4. <a href=\"\"></a>\n",
    "5. <a href=\"\"></a>"
   ]
  }
 ],
 "metadata": {
  "kernelspec": {
   "display_name": "Python 3.10.2 64-bit",
   "language": "python",
   "name": "python3"
  },
  "language_info": {
   "codemirror_mode": {
    "name": "ipython",
    "version": 3
   },
   "file_extension": ".py",
   "mimetype": "text/x-python",
   "name": "python",
   "nbconvert_exporter": "python",
   "pygments_lexer": "ipython3",
   "version": "3.10.2"
  },
  "vscode": {
   "interpreter": {
    "hash": "aee8b7b246df8f9039afb4144a1f6fd8d2ca17a180786b69acc140d282b71a49"
   }
  }
 },
 "nbformat": 4,
 "nbformat_minor": 2
}
